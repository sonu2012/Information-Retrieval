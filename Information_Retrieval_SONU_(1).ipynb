{
  "nbformat": 4,
  "nbformat_minor": 0,
  "metadata": {
    "colab": {
      "name": "Information_Retrieval_SONU (1).ipynb",
      "provenance": [],
      "collapsed_sections": [],
      "include_colab_link": true
    },
    "kernelspec": {
      "name": "python3",
      "display_name": "Python 3"
    },
    "language_info": {
      "name": "python"
    }
  },
  "cells": [
    {
      "cell_type": "markdown",
      "metadata": {
        "id": "view-in-github",
        "colab_type": "text"
      },
      "source": [
        "<a href=\"https://colab.research.google.com/github/sonu2012/Information-Retrieval/blob/master/Information_Retrieval_SONU_(1).ipynb\" target=\"_parent\"><img src=\"https://colab.research.google.com/assets/colab-badge.svg\" alt=\"Open In Colab\"/></a>"
      ]
    },
    {
      "cell_type": "code",
      "execution_count": 4,
      "metadata": {
        "id": "EEXX6PCy1dRi",
        "colab": {
          "base_uri": "https://localhost:8080/",
          "height": 807
        },
        "outputId": "1e0be7d9-3022-4bd2-9efc-60e1e88f8fc9"
      },
      "outputs": [
        {
          "output_type": "stream",
          "name": "stdout",
          "text": [
            "Drive already mounted at /content/drive; to attempt to forcibly remount, call drive.mount(\"/content/drive\", force_remount=True).\n",
            "/content/drive/MyDrive/NLP/archive/CISI.ALL\n",
            "CISI.ALL : 1460 items, over 108747 lines.\n",
            "/content/drive/MyDrive/NLP/archive/CISI.QRY\n",
            "CISI.QRY : 112 items, over 1525 lines.\n",
            "/content/drive/MyDrive/NLP/archive/CISI.REL\n",
            "CISI.REL : 76 items, over 3114 lines.\n",
            "/content/drive/MyDrive/NLP/archive/featurematrix.csv\n",
            "featurematrix.csv : 0 items, over 1461 lines.\n",
            "/content/drive/MyDrive/NLP/archive/featurematrix (1).csv\n",
            "featurematrix (1).csv : 0 items, over 1461 lines.\n",
            "/content/drive/MyDrive/NLP/archive/featurematrix (4).csv\n",
            "featurematrix (4).csv : 0 items, over 1461 lines.\n",
            "/content/drive/MyDrive/NLP/archive/featurematrixlemm.csv\n",
            "featurematrixlemm.csv : 0 items, over 1461 lines.\n",
            "/content/drive/MyDrive/NLP/archive/dfdoc_mesh_tfidf.csv\n",
            "dfdoc_mesh_tfidf.csv : 0 items, over 1461 lines.\n",
            "/content/drive/MyDrive/NLP/archive/qrdoc_mesh_tfidf.csv\n",
            "qrdoc_mesh_tfidf.csv : 0 items, over 113 lines.\n",
            "/content/drive/MyDrive/NLP/archive/doc_sw_cosine.csv\n",
            "doc_sw_cosine.csv : 0 items, over 113 lines.\n",
            "/content/drive/MyDrive/NLP/archive/doc_sw_sorted_index.csv\n",
            "doc_sw_sorted_index.csv : 0 items, over 113 lines.\n",
            "/content/drive/MyDrive/NLP/archive/doc_sw_results.csv\n",
            "doc_sw_results.csv : 0 items, over 113 lines.\n",
            "/content/drive/MyDrive/NLP/archive/doc_sw_results.pqt\n"
          ]
        },
        {
          "output_type": "error",
          "ename": "UnicodeDecodeError",
          "evalue": "ignored",
          "traceback": [
            "\u001b[0;31m---------------------------------------------------------------------------\u001b[0m",
            "\u001b[0;31mUnicodeDecodeError\u001b[0m                        Traceback (most recent call last)",
            "\u001b[0;32m<ipython-input-4-8e968bcd1897>\u001b[0m in \u001b[0;36m<module>\u001b[0;34m()\u001b[0m\n\u001b[1;32m     20\u001b[0m             \u001b[0mline_count\u001b[0m \u001b[0;34m=\u001b[0m \u001b[0;36m0\u001b[0m\u001b[0;34m\u001b[0m\u001b[0;34m\u001b[0m\u001b[0m\n\u001b[1;32m     21\u001b[0m             \u001b[0mid_set\u001b[0m \u001b[0;34m=\u001b[0m \u001b[0mset\u001b[0m\u001b[0;34m(\u001b[0m\u001b[0;34m)\u001b[0m\u001b[0;34m\u001b[0m\u001b[0;34m\u001b[0m\u001b[0m\n\u001b[0;32m---> 22\u001b[0;31m             \u001b[0;32mfor\u001b[0m \u001b[0ml\u001b[0m \u001b[0;32min\u001b[0m \u001b[0mf\u001b[0m\u001b[0;34m.\u001b[0m\u001b[0mreadlines\u001b[0m\u001b[0;34m(\u001b[0m\u001b[0;34m)\u001b[0m\u001b[0;34m:\u001b[0m\u001b[0;34m\u001b[0m\u001b[0;34m\u001b[0m\u001b[0m\n\u001b[0m\u001b[1;32m     23\u001b[0m                 \u001b[0mline_count\u001b[0m \u001b[0;34m+=\u001b[0m \u001b[0;36m1\u001b[0m\u001b[0;34m\u001b[0m\u001b[0;34m\u001b[0m\u001b[0m\n\u001b[1;32m     24\u001b[0m                 \u001b[0;32mif\u001b[0m \u001b[0mfilename\u001b[0m \u001b[0;34m==\u001b[0m \u001b[0;34m\"CISI.REL\"\u001b[0m\u001b[0;34m:\u001b[0m\u001b[0;34m\u001b[0m\u001b[0;34m\u001b[0m\u001b[0m\n",
            "\u001b[0;32m/usr/lib/python3.7/codecs.py\u001b[0m in \u001b[0;36mdecode\u001b[0;34m(self, input, final)\u001b[0m\n\u001b[1;32m    320\u001b[0m         \u001b[0;31m# decode input (taking the buffer into account)\u001b[0m\u001b[0;34m\u001b[0m\u001b[0;34m\u001b[0m\u001b[0;34m\u001b[0m\u001b[0m\n\u001b[1;32m    321\u001b[0m         \u001b[0mdata\u001b[0m \u001b[0;34m=\u001b[0m \u001b[0mself\u001b[0m\u001b[0;34m.\u001b[0m\u001b[0mbuffer\u001b[0m \u001b[0;34m+\u001b[0m \u001b[0minput\u001b[0m\u001b[0;34m\u001b[0m\u001b[0;34m\u001b[0m\u001b[0m\n\u001b[0;32m--> 322\u001b[0;31m         \u001b[0;34m(\u001b[0m\u001b[0mresult\u001b[0m\u001b[0;34m,\u001b[0m \u001b[0mconsumed\u001b[0m\u001b[0;34m)\u001b[0m \u001b[0;34m=\u001b[0m \u001b[0mself\u001b[0m\u001b[0;34m.\u001b[0m\u001b[0m_buffer_decode\u001b[0m\u001b[0;34m(\u001b[0m\u001b[0mdata\u001b[0m\u001b[0;34m,\u001b[0m \u001b[0mself\u001b[0m\u001b[0;34m.\u001b[0m\u001b[0merrors\u001b[0m\u001b[0;34m,\u001b[0m \u001b[0mfinal\u001b[0m\u001b[0;34m)\u001b[0m\u001b[0;34m\u001b[0m\u001b[0;34m\u001b[0m\u001b[0m\n\u001b[0m\u001b[1;32m    323\u001b[0m         \u001b[0;31m# keep undecoded input until the next call\u001b[0m\u001b[0;34m\u001b[0m\u001b[0;34m\u001b[0m\u001b[0;34m\u001b[0m\u001b[0m\n\u001b[1;32m    324\u001b[0m         \u001b[0mself\u001b[0m\u001b[0;34m.\u001b[0m\u001b[0mbuffer\u001b[0m \u001b[0;34m=\u001b[0m \u001b[0mdata\u001b[0m\u001b[0;34m[\u001b[0m\u001b[0mconsumed\u001b[0m\u001b[0;34m:\u001b[0m\u001b[0;34m]\u001b[0m\u001b[0;34m\u001b[0m\u001b[0;34m\u001b[0m\u001b[0m\n",
            "\u001b[0;31mUnicodeDecodeError\u001b[0m: 'utf-8' codec can't decode byte 0xc0 in position 7: invalid start byte"
          ]
        }
      ],
      "source": [
        "import numpy as np # linear algebra\n",
        "import pandas as pd # data processing, CSV file I/O (e.g. pd.read_csv)\n",
        "import numpy as np\n",
        "import pandas as pd\n",
        "import re\n",
        "import nltk\n",
        "import spacy\n",
        "import string\n",
        "pd.options.mode.chained_assignment = None\n",
        "from google.colab import drive\n",
        "drive.mount('/content/drive')\n",
        "# Input data files are available in the \"../input/\" directory.\n",
        "# For example, running this (by clicking run or pressing Shift+Enter) will list all files under the input directory\n",
        "\n",
        "import os\n",
        "for dirname, _, filenames in os.walk('/content/drive/MyDrive/NLP/archive'):\n",
        "    for filename in filenames:\n",
        "        print(os.path.join(dirname, filename))\n",
        "        with open(os.path.join(dirname, filename)) as f:\n",
        "            line_count = 0\n",
        "            id_set = set()\n",
        "            for l in f.readlines():\n",
        "                line_count += 1\n",
        "                if filename == \"CISI.REL\":\n",
        "                    id_set.add(l.lstrip(\" \").split(\" \")[0])\n",
        "                elif l.startswith(\".I \"):\n",
        "                    id_set.add(l.split(\" \")[1].strip())\n",
        "            print(f\"{filename} : {len(id_set)} items, over {line_count} lines.\")"
      ]
    },
    {
      "cell_type": "code",
      "source": [
        "from google.colab import drive\n",
        "drive.mount('/content/drive')"
      ],
      "metadata": {
        "colab": {
          "base_uri": "https://localhost:8080/"
        },
        "id": "r_16_7QJVGMc",
        "outputId": "47f4ae20-3a94-4053-a087-6b593cf3b255"
      },
      "execution_count": 3,
      "outputs": [
        {
          "output_type": "stream",
          "name": "stdout",
          "text": [
            "Drive already mounted at /content/drive; to attempt to forcibly remount, call drive.mount(\"/content/drive\", force_remount=True).\n"
          ]
        }
      ]
    },
    {
      "cell_type": "code",
      "source": [
        "with open('/content/drive/MyDrive/NLP/archive/CISI.ALL') as f:\n",
        "    lines = \"\"\n",
        "    for l in f.readlines():\n",
        "        lines += \"\\n\" + l.strip() if l.startswith(\".\") else \" \" + l.strip()\n",
        "    lines = lines.lstrip(\"\\n\").split(\"\\n\")\n",
        "    \n",
        "# print n lines\n",
        "n = 10\n",
        "for l in lines[:n]:\n",
        "    print(l)"
      ],
      "metadata": {
        "id": "NvJGeffD11Ta",
        "colab": {
          "base_uri": "https://localhost:8080/"
        },
        "outputId": "640e7bf3-4d9f-42aa-c835-c09c691b92cb"
      },
      "execution_count": 5,
      "outputs": [
        {
          "output_type": "stream",
          "name": "stdout",
          "text": [
            ".I 1\n",
            ".T 18 Editions of the Dewey Decimal Classifications\n",
            ".A Comaromi, J.P.\n",
            ".W The present study is a history of the DEWEY Decimal Classification.  The first edition of the DDC was published in 1876, the eighteenth edition in 1971, and future editions will continue to appear as needed.  In spite of the DDC's long and healthy life, however, its full story has never been told.  There have been biographies of Dewey that briefly describe his system, but this is the first attempt to provide a detailed history of the work that more than any other has spurred the growth of librarianship in this country and abroad.\n",
            ".X 1\t5\t1 92\t1\t1 262\t1\t1 556\t1\t1 1004\t1\t1 1024\t1\t1 1024\t1\t1\n",
            ".I 2\n",
            ".T Use Made of Technical Libraries\n",
            ".A Slater, M.\n",
            ".W This report is an analysis of 6300 acts of use in 104 technical libraries in the United Kingdom. Library use is only one aspect of the wider pattern of information use.  Information transfer in libraries is restricted to the use of documents.  It takes no account of documents used outside the library, still less of information transferred orally from person to person.  The library acts as a channel in only a proportion of the situations in which information is transferred. Taking technical information transfer as a whole, there is no doubt that this proportion is not the major one.  There are users of technical information - particularly in technology rather than science - who visit libraries rarely if at all, relying on desk collections of handbooks, current periodicals and personal contact with their colleagues and with people in other organizations.  Even regular library users also receive information in other ways.\n",
            ".X 2\t5\t2 32\t1\t2 76\t1\t2 132\t1\t2 137\t1\t2 139\t1\t2 152\t2\t2 155\t1\t2 158\t1\t2 183\t1\t2 195\t1\t2 203\t1\t2 204\t1\t2 210\t1\t2 243\t1\t2 371\t1\t2 475\t1\t2 552\t1\t2 760\t1\t2 770\t1\t2 771\t1\t2 774\t1\t2 775\t1\t2 776\t1\t2 788\t1\t2 789\t1\t2 801\t1\t2 815\t1\t2 839\t1\t2 977\t1\t2 1055\t1\t2 1056\t1\t2 1151\t1\t2 1361\t1\t2 1414\t1\t2 1451\t1\t2 1451\t1\t2\n"
          ]
        }
      ]
    },
    {
      "cell_type": "code",
      "source": [
        "doc_set = {}\n",
        "doc_id = \"\"\n",
        "doc_text = \"\"\n",
        "for l in lines:\n",
        "    if l.startswith(\".I\"):\n",
        "        doc_id = l.split(\" \")[1].strip()\n",
        "    elif l.startswith(\".X\"):\n",
        "        doc_set[doc_id] = doc_text.lstrip(\" \")\n",
        "        doc_id = \"\"\n",
        "        doc_text = \"\"\n",
        "    else:\n",
        "        doc_text += l.strip()[3:] + \" \" # The first 3 characters of a line can be ignored.\n",
        "\n",
        "# Print something to see the dictionary structure, etc.\n",
        "print(f\"Number of documents = {len(doc_set)}\" + \".\\n\")\n",
        "print(doc_set[\"5\"]) # note that the dictionary indexes are strings, not numbers. \n",
        "        "
      ],
      "metadata": {
        "id": "NbLMv0MQ2GvR",
        "colab": {
          "base_uri": "https://localhost:8080/"
        },
        "outputId": "e5df696e-1f48-4287-ca1c-cc9b85b2392f"
      },
      "execution_count": 6,
      "outputs": [
        {
          "output_type": "stream",
          "name": "stdout",
          "text": [
            "Number of documents = 1460.\n",
            "\n",
            "A Library Management Game: a report on a research project Brophy, P. Although the use of games in professional education has become widespread only during the last decade, the method has been used in a number of fields for many hundreds of years. Its origins have been traced to simple war games, used in military training when the \"real thing\" was either unavailable or too dangerous.  In more recent times, these games have become more and more sophisticated, and many now use large electronic computers to handle the complex calculations involved. Since 1956, when the first well-developed management game was introduced, the technique has spread rapidly into a wide variety of disciplines and today it is used at all levels of education, from primary school classes to courses for experienced professional men and women.  One of the main causes of this \"game explosion\" has been the rapid development of sophisticated management techniques, such as simulation and mathematical modelling, which have been made possible by rapid advances in computer technology. \n"
          ]
        }
      ]
    },
    {
      "cell_type": "code",
      "source": [
        "with open('/content/drive/MyDrive/NLP/archive/CISI.QRY') as f:\n",
        "    lines = \"\"\n",
        "    for l in f.readlines():\n",
        "        lines += \"\\n\" + l.strip() if l.startswith(\".\") else \" \" + l.strip()\n",
        "    lines = lines.lstrip(\"\\n\").split(\"\\n\")\n",
        "    \n",
        "qry_set = {}\n",
        "qry_id = \"\"\n",
        "for l in lines:\n",
        "    if l.startswith(\".I\"):\n",
        "        qry_id = l.split(\" \")[1].strip()\n",
        "    elif l.startswith(\".W\"):\n",
        "        qry_set[qry_id] = l.strip()[3:]\n",
        "        qry_id = \"\"\n",
        "    \n",
        "# Print something to see the dictionary structure, etc.\n",
        "print(f\"Number of queries = {len(qry_set)}\" + \".\\n\")\n",
        "print(qry_set[\"3\"]) # note that the dictionary indexes are strings, not numbers."
      ],
      "metadata": {
        "id": "PB1mjaQN2LTg",
        "colab": {
          "base_uri": "https://localhost:8080/"
        },
        "outputId": "191828f3-faa6-48a4-e295-2599cc8c329a"
      },
      "execution_count": 7,
      "outputs": [
        {
          "output_type": "stream",
          "name": "stdout",
          "text": [
            "Number of queries = 112.\n",
            "\n",
            "What is information science?  Give definitions where possible.\n"
          ]
        }
      ]
    },
    {
      "cell_type": "code",
      "source": [
        "rel_set = {}\n",
        "with open('/content/drive/MyDrive/NLP/archive/CISI.REL') as f:\n",
        "    for l in f.readlines():\n",
        "        qry_id = l.lstrip(\" \").strip(\"\\n\").split(\"\\t\")[0].split(\" \")[0]\n",
        "        doc_id = l.lstrip(\" \").strip(\"\\n\").split(\"\\t\")[0].split(\" \")[-1]\n",
        "        if qry_id in rel_set:\n",
        "            rel_set[qry_id].append(doc_id)\n",
        "        else:\n",
        "            rel_set[qry_id] = []\n",
        "            rel_set[qry_id].append(doc_id)\n",
        "        if qry_id == \"7\":\n",
        "            print(l.strip(\"\\n\"))\n",
        "    \n",
        "# Print something to see the dictionary structure, etc.\n",
        "print(f\"\\nNumber of mappings = {len(rel_set)}\" + \".\\n\")\n",
        "print(rel_set[\"7\"]) # note that the dictionary indexes are strings, not numbers"
      ],
      "metadata": {
        "id": "h53MlHHu2Pda",
        "colab": {
          "base_uri": "https://localhost:8080/"
        },
        "outputId": "385b3324-6b4c-4e46-f8a4-1db3bf60fac5"
      },
      "execution_count": 8,
      "outputs": [
        {
          "output_type": "stream",
          "name": "stdout",
          "text": [
            "     7    310\t0\t0.000000\n",
            "     7    320\t0\t0.000000\n",
            "     7    332\t0\t0.000000\n",
            "     7    375\t0\t0.000000\n",
            "     7    376\t0\t0.000000\n",
            "     7    645\t0\t0.000000\n",
            "     7    724\t0\t0.000000\n",
            "     7    725\t0\t0.000000\n",
            "\n",
            "Number of mappings = 76.\n",
            "\n",
            "['310', '320', '332', '375', '376', '645', '724', '725']\n"
          ]
        }
      ]
    },
    {
      "cell_type": "code",
      "source": [
        "docs = []\n",
        "for i in range(1,len(doc_set)+1):\n",
        "    docs.append(doc_set[str(i)])\n",
        "    dfdoc=pd.DataFrame(docs,columns={'Docs'})"
      ],
      "metadata": {
        "id": "yfVRT6GN2VIr"
      },
      "execution_count": 9,
      "outputs": []
    },
    {
      "cell_type": "code",
      "source": [
        "print(dfdoc)"
      ],
      "metadata": {
        "id": "jrFElNym2ZNo",
        "colab": {
          "base_uri": "https://localhost:8080/"
        },
        "outputId": "645e83cf-fb6b-4fd5-c780-7d15aeaffe54"
      },
      "execution_count": 10,
      "outputs": [
        {
          "output_type": "stream",
          "name": "stdout",
          "text": [
            "                                                   Docs\n",
            "0     18 Editions of the Dewey Decimal Classificatio...\n",
            "1     Use Made of Technical Libraries Slater, M. Thi...\n",
            "2     Two Kinds of Power An Essay on Bibliographic C...\n",
            "3     Systems Analysis of a University Library; fina...\n",
            "4     A Library Management Game: a report on a resea...\n",
            "...                                                 ...\n",
            "1455  World Dynamics Forrester, J.W. Over the last s...\n",
            "1456  World Trends in Library Education Bramley, G. ...\n",
            "1457  Legal Restrictions on Exploitation of the Pate...\n",
            "1458  Language and Thought Poluskin, V.A. This book ...\n",
            "1459  Modern Integral Information Systems for Chemis...\n",
            "\n",
            "[1460 rows x 1 columns]\n"
          ]
        }
      ]
    },
    {
      "cell_type": "code",
      "source": [
        "dfdoc[\"text_lower\"] = dfdoc[\"Docs\"].str.lower()\n",
        "dfdoc.head()"
      ],
      "metadata": {
        "id": "pUn5w4yN2bCr",
        "colab": {
          "base_uri": "https://localhost:8080/",
          "height": 206
        },
        "outputId": "9f8640d1-2d9b-4625-ab3f-26b2c3ce89bb"
      },
      "execution_count": 11,
      "outputs": [
        {
          "output_type": "execute_result",
          "data": {
            "text/plain": [
              "                                                Docs  \\\n",
              "0  18 Editions of the Dewey Decimal Classificatio...   \n",
              "1  Use Made of Technical Libraries Slater, M. Thi...   \n",
              "2  Two Kinds of Power An Essay on Bibliographic C...   \n",
              "3  Systems Analysis of a University Library; fina...   \n",
              "4  A Library Management Game: a report on a resea...   \n",
              "\n",
              "                                          text_lower  \n",
              "0  18 editions of the dewey decimal classificatio...  \n",
              "1  use made of technical libraries slater, m. thi...  \n",
              "2  two kinds of power an essay on bibliographic c...  \n",
              "3  systems analysis of a university library; fina...  \n",
              "4  a library management game: a report on a resea...  "
            ],
            "text/html": [
              "\n",
              "  <div id=\"df-cbd7dc71-6643-43f6-937e-20c28f065b49\">\n",
              "    <div class=\"colab-df-container\">\n",
              "      <div>\n",
              "<style scoped>\n",
              "    .dataframe tbody tr th:only-of-type {\n",
              "        vertical-align: middle;\n",
              "    }\n",
              "\n",
              "    .dataframe tbody tr th {\n",
              "        vertical-align: top;\n",
              "    }\n",
              "\n",
              "    .dataframe thead th {\n",
              "        text-align: right;\n",
              "    }\n",
              "</style>\n",
              "<table border=\"1\" class=\"dataframe\">\n",
              "  <thead>\n",
              "    <tr style=\"text-align: right;\">\n",
              "      <th></th>\n",
              "      <th>Docs</th>\n",
              "      <th>text_lower</th>\n",
              "    </tr>\n",
              "  </thead>\n",
              "  <tbody>\n",
              "    <tr>\n",
              "      <th>0</th>\n",
              "      <td>18 Editions of the Dewey Decimal Classificatio...</td>\n",
              "      <td>18 editions of the dewey decimal classificatio...</td>\n",
              "    </tr>\n",
              "    <tr>\n",
              "      <th>1</th>\n",
              "      <td>Use Made of Technical Libraries Slater, M. Thi...</td>\n",
              "      <td>use made of technical libraries slater, m. thi...</td>\n",
              "    </tr>\n",
              "    <tr>\n",
              "      <th>2</th>\n",
              "      <td>Two Kinds of Power An Essay on Bibliographic C...</td>\n",
              "      <td>two kinds of power an essay on bibliographic c...</td>\n",
              "    </tr>\n",
              "    <tr>\n",
              "      <th>3</th>\n",
              "      <td>Systems Analysis of a University Library; fina...</td>\n",
              "      <td>systems analysis of a university library; fina...</td>\n",
              "    </tr>\n",
              "    <tr>\n",
              "      <th>4</th>\n",
              "      <td>A Library Management Game: a report on a resea...</td>\n",
              "      <td>a library management game: a report on a resea...</td>\n",
              "    </tr>\n",
              "  </tbody>\n",
              "</table>\n",
              "</div>\n",
              "      <button class=\"colab-df-convert\" onclick=\"convertToInteractive('df-cbd7dc71-6643-43f6-937e-20c28f065b49')\"\n",
              "              title=\"Convert this dataframe to an interactive table.\"\n",
              "              style=\"display:none;\">\n",
              "        \n",
              "  <svg xmlns=\"http://www.w3.org/2000/svg\" height=\"24px\"viewBox=\"0 0 24 24\"\n",
              "       width=\"24px\">\n",
              "    <path d=\"M0 0h24v24H0V0z\" fill=\"none\"/>\n",
              "    <path d=\"M18.56 5.44l.94 2.06.94-2.06 2.06-.94-2.06-.94-.94-2.06-.94 2.06-2.06.94zm-11 1L8.5 8.5l.94-2.06 2.06-.94-2.06-.94L8.5 2.5l-.94 2.06-2.06.94zm10 10l.94 2.06.94-2.06 2.06-.94-2.06-.94-.94-2.06-.94 2.06-2.06.94z\"/><path d=\"M17.41 7.96l-1.37-1.37c-.4-.4-.92-.59-1.43-.59-.52 0-1.04.2-1.43.59L10.3 9.45l-7.72 7.72c-.78.78-.78 2.05 0 2.83L4 21.41c.39.39.9.59 1.41.59.51 0 1.02-.2 1.41-.59l7.78-7.78 2.81-2.81c.8-.78.8-2.07 0-2.86zM5.41 20L4 18.59l7.72-7.72 1.47 1.35L5.41 20z\"/>\n",
              "  </svg>\n",
              "      </button>\n",
              "      \n",
              "  <style>\n",
              "    .colab-df-container {\n",
              "      display:flex;\n",
              "      flex-wrap:wrap;\n",
              "      gap: 12px;\n",
              "    }\n",
              "\n",
              "    .colab-df-convert {\n",
              "      background-color: #E8F0FE;\n",
              "      border: none;\n",
              "      border-radius: 50%;\n",
              "      cursor: pointer;\n",
              "      display: none;\n",
              "      fill: #1967D2;\n",
              "      height: 32px;\n",
              "      padding: 0 0 0 0;\n",
              "      width: 32px;\n",
              "    }\n",
              "\n",
              "    .colab-df-convert:hover {\n",
              "      background-color: #E2EBFA;\n",
              "      box-shadow: 0px 1px 2px rgba(60, 64, 67, 0.3), 0px 1px 3px 1px rgba(60, 64, 67, 0.15);\n",
              "      fill: #174EA6;\n",
              "    }\n",
              "\n",
              "    [theme=dark] .colab-df-convert {\n",
              "      background-color: #3B4455;\n",
              "      fill: #D2E3FC;\n",
              "    }\n",
              "\n",
              "    [theme=dark] .colab-df-convert:hover {\n",
              "      background-color: #434B5C;\n",
              "      box-shadow: 0px 1px 3px 1px rgba(0, 0, 0, 0.15);\n",
              "      filter: drop-shadow(0px 1px 2px rgba(0, 0, 0, 0.3));\n",
              "      fill: #FFFFFF;\n",
              "    }\n",
              "  </style>\n",
              "\n",
              "      <script>\n",
              "        const buttonEl =\n",
              "          document.querySelector('#df-cbd7dc71-6643-43f6-937e-20c28f065b49 button.colab-df-convert');\n",
              "        buttonEl.style.display =\n",
              "          google.colab.kernel.accessAllowed ? 'block' : 'none';\n",
              "\n",
              "        async function convertToInteractive(key) {\n",
              "          const element = document.querySelector('#df-cbd7dc71-6643-43f6-937e-20c28f065b49');\n",
              "          const dataTable =\n",
              "            await google.colab.kernel.invokeFunction('convertToInteractive',\n",
              "                                                     [key], {});\n",
              "          if (!dataTable) return;\n",
              "\n",
              "          const docLinkHtml = 'Like what you see? Visit the ' +\n",
              "            '<a target=\"_blank\" href=https://colab.research.google.com/notebooks/data_table.ipynb>data table notebook</a>'\n",
              "            + ' to learn more about interactive tables.';\n",
              "          element.innerHTML = '';\n",
              "          dataTable['output_type'] = 'display_data';\n",
              "          await google.colab.output.renderOutput(dataTable, element);\n",
              "          const docLink = document.createElement('div');\n",
              "          docLink.innerHTML = docLinkHtml;\n",
              "          element.appendChild(docLink);\n",
              "        }\n",
              "      </script>\n",
              "    </div>\n",
              "  </div>\n",
              "  "
            ]
          },
          "metadata": {},
          "execution_count": 11
        }
      ]
    },
    {
      "cell_type": "code",
      "source": [
        "# drop the new column created in last cell\n",
        "dfdoc.drop([\"text_lower\"], axis=1, inplace=True)\n",
        "\n",
        "PUNCT_TO_REMOVE = string.punctuation\n",
        "def remove_punctuation(text):\n",
        "    \"\"\"custom function to remove the punctuation\"\"\"\n",
        "    return text.translate(str.maketrans('', '', PUNCT_TO_REMOVE))\n",
        "\n",
        "dfdoc[\"text_wo_punct\"] = dfdoc[\"Docs\"].apply(lambda text: remove_punctuation(text))\n",
        "dfdoc.head()"
      ],
      "metadata": {
        "id": "07TQLQ_f22sn",
        "colab": {
          "base_uri": "https://localhost:8080/",
          "height": 206
        },
        "outputId": "d1a213cb-f75a-45ce-cc83-909dd3f1d9de"
      },
      "execution_count": 12,
      "outputs": [
        {
          "output_type": "execute_result",
          "data": {
            "text/plain": [
              "                                                Docs  \\\n",
              "0  18 Editions of the Dewey Decimal Classificatio...   \n",
              "1  Use Made of Technical Libraries Slater, M. Thi...   \n",
              "2  Two Kinds of Power An Essay on Bibliographic C...   \n",
              "3  Systems Analysis of a University Library; fina...   \n",
              "4  A Library Management Game: a report on a resea...   \n",
              "\n",
              "                                       text_wo_punct  \n",
              "0  18 Editions of the Dewey Decimal Classificatio...  \n",
              "1  Use Made of Technical Libraries Slater M This ...  \n",
              "2  Two Kinds of Power An Essay on Bibliographic C...  \n",
              "3  Systems Analysis of a University Library final...  \n",
              "4  A Library Management Game a report on a resear...  "
            ],
            "text/html": [
              "\n",
              "  <div id=\"df-4c1ebd37-c989-40d8-8801-9b5deb675a2e\">\n",
              "    <div class=\"colab-df-container\">\n",
              "      <div>\n",
              "<style scoped>\n",
              "    .dataframe tbody tr th:only-of-type {\n",
              "        vertical-align: middle;\n",
              "    }\n",
              "\n",
              "    .dataframe tbody tr th {\n",
              "        vertical-align: top;\n",
              "    }\n",
              "\n",
              "    .dataframe thead th {\n",
              "        text-align: right;\n",
              "    }\n",
              "</style>\n",
              "<table border=\"1\" class=\"dataframe\">\n",
              "  <thead>\n",
              "    <tr style=\"text-align: right;\">\n",
              "      <th></th>\n",
              "      <th>Docs</th>\n",
              "      <th>text_wo_punct</th>\n",
              "    </tr>\n",
              "  </thead>\n",
              "  <tbody>\n",
              "    <tr>\n",
              "      <th>0</th>\n",
              "      <td>18 Editions of the Dewey Decimal Classificatio...</td>\n",
              "      <td>18 Editions of the Dewey Decimal Classificatio...</td>\n",
              "    </tr>\n",
              "    <tr>\n",
              "      <th>1</th>\n",
              "      <td>Use Made of Technical Libraries Slater, M. Thi...</td>\n",
              "      <td>Use Made of Technical Libraries Slater M This ...</td>\n",
              "    </tr>\n",
              "    <tr>\n",
              "      <th>2</th>\n",
              "      <td>Two Kinds of Power An Essay on Bibliographic C...</td>\n",
              "      <td>Two Kinds of Power An Essay on Bibliographic C...</td>\n",
              "    </tr>\n",
              "    <tr>\n",
              "      <th>3</th>\n",
              "      <td>Systems Analysis of a University Library; fina...</td>\n",
              "      <td>Systems Analysis of a University Library final...</td>\n",
              "    </tr>\n",
              "    <tr>\n",
              "      <th>4</th>\n",
              "      <td>A Library Management Game: a report on a resea...</td>\n",
              "      <td>A Library Management Game a report on a resear...</td>\n",
              "    </tr>\n",
              "  </tbody>\n",
              "</table>\n",
              "</div>\n",
              "      <button class=\"colab-df-convert\" onclick=\"convertToInteractive('df-4c1ebd37-c989-40d8-8801-9b5deb675a2e')\"\n",
              "              title=\"Convert this dataframe to an interactive table.\"\n",
              "              style=\"display:none;\">\n",
              "        \n",
              "  <svg xmlns=\"http://www.w3.org/2000/svg\" height=\"24px\"viewBox=\"0 0 24 24\"\n",
              "       width=\"24px\">\n",
              "    <path d=\"M0 0h24v24H0V0z\" fill=\"none\"/>\n",
              "    <path d=\"M18.56 5.44l.94 2.06.94-2.06 2.06-.94-2.06-.94-.94-2.06-.94 2.06-2.06.94zm-11 1L8.5 8.5l.94-2.06 2.06-.94-2.06-.94L8.5 2.5l-.94 2.06-2.06.94zm10 10l.94 2.06.94-2.06 2.06-.94-2.06-.94-.94-2.06-.94 2.06-2.06.94z\"/><path d=\"M17.41 7.96l-1.37-1.37c-.4-.4-.92-.59-1.43-.59-.52 0-1.04.2-1.43.59L10.3 9.45l-7.72 7.72c-.78.78-.78 2.05 0 2.83L4 21.41c.39.39.9.59 1.41.59.51 0 1.02-.2 1.41-.59l7.78-7.78 2.81-2.81c.8-.78.8-2.07 0-2.86zM5.41 20L4 18.59l7.72-7.72 1.47 1.35L5.41 20z\"/>\n",
              "  </svg>\n",
              "      </button>\n",
              "      \n",
              "  <style>\n",
              "    .colab-df-container {\n",
              "      display:flex;\n",
              "      flex-wrap:wrap;\n",
              "      gap: 12px;\n",
              "    }\n",
              "\n",
              "    .colab-df-convert {\n",
              "      background-color: #E8F0FE;\n",
              "      border: none;\n",
              "      border-radius: 50%;\n",
              "      cursor: pointer;\n",
              "      display: none;\n",
              "      fill: #1967D2;\n",
              "      height: 32px;\n",
              "      padding: 0 0 0 0;\n",
              "      width: 32px;\n",
              "    }\n",
              "\n",
              "    .colab-df-convert:hover {\n",
              "      background-color: #E2EBFA;\n",
              "      box-shadow: 0px 1px 2px rgba(60, 64, 67, 0.3), 0px 1px 3px 1px rgba(60, 64, 67, 0.15);\n",
              "      fill: #174EA6;\n",
              "    }\n",
              "\n",
              "    [theme=dark] .colab-df-convert {\n",
              "      background-color: #3B4455;\n",
              "      fill: #D2E3FC;\n",
              "    }\n",
              "\n",
              "    [theme=dark] .colab-df-convert:hover {\n",
              "      background-color: #434B5C;\n",
              "      box-shadow: 0px 1px 3px 1px rgba(0, 0, 0, 0.15);\n",
              "      filter: drop-shadow(0px 1px 2px rgba(0, 0, 0, 0.3));\n",
              "      fill: #FFFFFF;\n",
              "    }\n",
              "  </style>\n",
              "\n",
              "      <script>\n",
              "        const buttonEl =\n",
              "          document.querySelector('#df-4c1ebd37-c989-40d8-8801-9b5deb675a2e button.colab-df-convert');\n",
              "        buttonEl.style.display =\n",
              "          google.colab.kernel.accessAllowed ? 'block' : 'none';\n",
              "\n",
              "        async function convertToInteractive(key) {\n",
              "          const element = document.querySelector('#df-4c1ebd37-c989-40d8-8801-9b5deb675a2e');\n",
              "          const dataTable =\n",
              "            await google.colab.kernel.invokeFunction('convertToInteractive',\n",
              "                                                     [key], {});\n",
              "          if (!dataTable) return;\n",
              "\n",
              "          const docLinkHtml = 'Like what you see? Visit the ' +\n",
              "            '<a target=\"_blank\" href=https://colab.research.google.com/notebooks/data_table.ipynb>data table notebook</a>'\n",
              "            + ' to learn more about interactive tables.';\n",
              "          element.innerHTML = '';\n",
              "          dataTable['output_type'] = 'display_data';\n",
              "          await google.colab.output.renderOutput(dataTable, element);\n",
              "          const docLink = document.createElement('div');\n",
              "          docLink.innerHTML = docLinkHtml;\n",
              "          element.appendChild(docLink);\n",
              "        }\n",
              "      </script>\n",
              "    </div>\n",
              "  </div>\n",
              "  "
            ]
          },
          "metadata": {},
          "execution_count": 12
        }
      ]
    },
    {
      "cell_type": "code",
      "source": [
        "nltk.download('stopwords')\n",
        "from nltk.corpus import stopwords\n",
        "\", \".join(stopwords.words('english'))"
      ],
      "metadata": {
        "id": "NLBxeWgu3el_",
        "colab": {
          "base_uri": "https://localhost:8080/",
          "height": 174
        },
        "outputId": "9c149a62-eeac-4b63-891c-b465816a5ff5"
      },
      "execution_count": 13,
      "outputs": [
        {
          "output_type": "stream",
          "name": "stdout",
          "text": [
            "[nltk_data] Downloading package stopwords to /root/nltk_data...\n",
            "[nltk_data]   Package stopwords is already up-to-date!\n"
          ]
        },
        {
          "output_type": "execute_result",
          "data": {
            "text/plain": [
              "\"i, me, my, myself, we, our, ours, ourselves, you, you're, you've, you'll, you'd, your, yours, yourself, yourselves, he, him, his, himself, she, she's, her, hers, herself, it, it's, its, itself, they, them, their, theirs, themselves, what, which, who, whom, this, that, that'll, these, those, am, is, are, was, were, be, been, being, have, has, had, having, do, does, did, doing, a, an, the, and, but, if, or, because, as, until, while, of, at, by, for, with, about, against, between, into, through, during, before, after, above, below, to, from, up, down, in, out, on, off, over, under, again, further, then, once, here, there, when, where, why, how, all, any, both, each, few, more, most, other, some, such, no, nor, not, only, own, same, so, than, too, very, s, t, can, will, just, don, don't, should, should've, now, d, ll, m, o, re, ve, y, ain, aren, aren't, couldn, couldn't, didn, didn't, doesn, doesn't, hadn, hadn't, hasn, hasn't, haven, haven't, isn, isn't, ma, mightn, mightn't, mustn, mustn't, needn, needn't, shan, shan't, shouldn, shouldn't, wasn, wasn't, weren, weren't, won, won't, wouldn, wouldn't\""
            ],
            "application/vnd.google.colaboratory.intrinsic+json": {
              "type": "string"
            }
          },
          "metadata": {},
          "execution_count": 13
        }
      ]
    },
    {
      "cell_type": "code",
      "source": [
        "STOPWORDS = set(stopwords.words('english'))\n",
        "def remove_stopwords(text):\n",
        "    \"\"\"custom function to remove the stopwords\"\"\"\n",
        "    return \" \".join([word for word in str(text).split() if word not in STOPWORDS])\n",
        "\n",
        "dfdoc[\"text_wo_stop\"] = dfdoc[\"text_wo_punct\"].apply(lambda text: remove_stopwords(text))\n",
        "dfdoc.head()"
      ],
      "metadata": {
        "id": "J_NDoLL-3tSk",
        "colab": {
          "base_uri": "https://localhost:8080/",
          "height": 206
        },
        "outputId": "81643725-e9c4-4954-d295-11dd1b662f88"
      },
      "execution_count": 14,
      "outputs": [
        {
          "output_type": "execute_result",
          "data": {
            "text/plain": [
              "                                                Docs  \\\n",
              "0  18 Editions of the Dewey Decimal Classificatio...   \n",
              "1  Use Made of Technical Libraries Slater, M. Thi...   \n",
              "2  Two Kinds of Power An Essay on Bibliographic C...   \n",
              "3  Systems Analysis of a University Library; fina...   \n",
              "4  A Library Management Game: a report on a resea...   \n",
              "\n",
              "                                       text_wo_punct  \\\n",
              "0  18 Editions of the Dewey Decimal Classificatio...   \n",
              "1  Use Made of Technical Libraries Slater M This ...   \n",
              "2  Two Kinds of Power An Essay on Bibliographic C...   \n",
              "3  Systems Analysis of a University Library final...   \n",
              "4  A Library Management Game a report on a resear...   \n",
              "\n",
              "                                        text_wo_stop  \n",
              "0  18 Editions Dewey Decimal Classifications Coma...  \n",
              "1  Use Made Technical Libraries Slater M This rep...  \n",
              "2  Two Kinds Power An Essay Bibliographic Control...  \n",
              "3  Systems Analysis University Library final repo...  \n",
              "4  A Library Management Game report research proj...  "
            ],
            "text/html": [
              "\n",
              "  <div id=\"df-a640d810-6c97-40bc-bff1-5db9df5f171b\">\n",
              "    <div class=\"colab-df-container\">\n",
              "      <div>\n",
              "<style scoped>\n",
              "    .dataframe tbody tr th:only-of-type {\n",
              "        vertical-align: middle;\n",
              "    }\n",
              "\n",
              "    .dataframe tbody tr th {\n",
              "        vertical-align: top;\n",
              "    }\n",
              "\n",
              "    .dataframe thead th {\n",
              "        text-align: right;\n",
              "    }\n",
              "</style>\n",
              "<table border=\"1\" class=\"dataframe\">\n",
              "  <thead>\n",
              "    <tr style=\"text-align: right;\">\n",
              "      <th></th>\n",
              "      <th>Docs</th>\n",
              "      <th>text_wo_punct</th>\n",
              "      <th>text_wo_stop</th>\n",
              "    </tr>\n",
              "  </thead>\n",
              "  <tbody>\n",
              "    <tr>\n",
              "      <th>0</th>\n",
              "      <td>18 Editions of the Dewey Decimal Classificatio...</td>\n",
              "      <td>18 Editions of the Dewey Decimal Classificatio...</td>\n",
              "      <td>18 Editions Dewey Decimal Classifications Coma...</td>\n",
              "    </tr>\n",
              "    <tr>\n",
              "      <th>1</th>\n",
              "      <td>Use Made of Technical Libraries Slater, M. Thi...</td>\n",
              "      <td>Use Made of Technical Libraries Slater M This ...</td>\n",
              "      <td>Use Made Technical Libraries Slater M This rep...</td>\n",
              "    </tr>\n",
              "    <tr>\n",
              "      <th>2</th>\n",
              "      <td>Two Kinds of Power An Essay on Bibliographic C...</td>\n",
              "      <td>Two Kinds of Power An Essay on Bibliographic C...</td>\n",
              "      <td>Two Kinds Power An Essay Bibliographic Control...</td>\n",
              "    </tr>\n",
              "    <tr>\n",
              "      <th>3</th>\n",
              "      <td>Systems Analysis of a University Library; fina...</td>\n",
              "      <td>Systems Analysis of a University Library final...</td>\n",
              "      <td>Systems Analysis University Library final repo...</td>\n",
              "    </tr>\n",
              "    <tr>\n",
              "      <th>4</th>\n",
              "      <td>A Library Management Game: a report on a resea...</td>\n",
              "      <td>A Library Management Game a report on a resear...</td>\n",
              "      <td>A Library Management Game report research proj...</td>\n",
              "    </tr>\n",
              "  </tbody>\n",
              "</table>\n",
              "</div>\n",
              "      <button class=\"colab-df-convert\" onclick=\"convertToInteractive('df-a640d810-6c97-40bc-bff1-5db9df5f171b')\"\n",
              "              title=\"Convert this dataframe to an interactive table.\"\n",
              "              style=\"display:none;\">\n",
              "        \n",
              "  <svg xmlns=\"http://www.w3.org/2000/svg\" height=\"24px\"viewBox=\"0 0 24 24\"\n",
              "       width=\"24px\">\n",
              "    <path d=\"M0 0h24v24H0V0z\" fill=\"none\"/>\n",
              "    <path d=\"M18.56 5.44l.94 2.06.94-2.06 2.06-.94-2.06-.94-.94-2.06-.94 2.06-2.06.94zm-11 1L8.5 8.5l.94-2.06 2.06-.94-2.06-.94L8.5 2.5l-.94 2.06-2.06.94zm10 10l.94 2.06.94-2.06 2.06-.94-2.06-.94-.94-2.06-.94 2.06-2.06.94z\"/><path d=\"M17.41 7.96l-1.37-1.37c-.4-.4-.92-.59-1.43-.59-.52 0-1.04.2-1.43.59L10.3 9.45l-7.72 7.72c-.78.78-.78 2.05 0 2.83L4 21.41c.39.39.9.59 1.41.59.51 0 1.02-.2 1.41-.59l7.78-7.78 2.81-2.81c.8-.78.8-2.07 0-2.86zM5.41 20L4 18.59l7.72-7.72 1.47 1.35L5.41 20z\"/>\n",
              "  </svg>\n",
              "      </button>\n",
              "      \n",
              "  <style>\n",
              "    .colab-df-container {\n",
              "      display:flex;\n",
              "      flex-wrap:wrap;\n",
              "      gap: 12px;\n",
              "    }\n",
              "\n",
              "    .colab-df-convert {\n",
              "      background-color: #E8F0FE;\n",
              "      border: none;\n",
              "      border-radius: 50%;\n",
              "      cursor: pointer;\n",
              "      display: none;\n",
              "      fill: #1967D2;\n",
              "      height: 32px;\n",
              "      padding: 0 0 0 0;\n",
              "      width: 32px;\n",
              "    }\n",
              "\n",
              "    .colab-df-convert:hover {\n",
              "      background-color: #E2EBFA;\n",
              "      box-shadow: 0px 1px 2px rgba(60, 64, 67, 0.3), 0px 1px 3px 1px rgba(60, 64, 67, 0.15);\n",
              "      fill: #174EA6;\n",
              "    }\n",
              "\n",
              "    [theme=dark] .colab-df-convert {\n",
              "      background-color: #3B4455;\n",
              "      fill: #D2E3FC;\n",
              "    }\n",
              "\n",
              "    [theme=dark] .colab-df-convert:hover {\n",
              "      background-color: #434B5C;\n",
              "      box-shadow: 0px 1px 3px 1px rgba(0, 0, 0, 0.15);\n",
              "      filter: drop-shadow(0px 1px 2px rgba(0, 0, 0, 0.3));\n",
              "      fill: #FFFFFF;\n",
              "    }\n",
              "  </style>\n",
              "\n",
              "      <script>\n",
              "        const buttonEl =\n",
              "          document.querySelector('#df-a640d810-6c97-40bc-bff1-5db9df5f171b button.colab-df-convert');\n",
              "        buttonEl.style.display =\n",
              "          google.colab.kernel.accessAllowed ? 'block' : 'none';\n",
              "\n",
              "        async function convertToInteractive(key) {\n",
              "          const element = document.querySelector('#df-a640d810-6c97-40bc-bff1-5db9df5f171b');\n",
              "          const dataTable =\n",
              "            await google.colab.kernel.invokeFunction('convertToInteractive',\n",
              "                                                     [key], {});\n",
              "          if (!dataTable) return;\n",
              "\n",
              "          const docLinkHtml = 'Like what you see? Visit the ' +\n",
              "            '<a target=\"_blank\" href=https://colab.research.google.com/notebooks/data_table.ipynb>data table notebook</a>'\n",
              "            + ' to learn more about interactive tables.';\n",
              "          element.innerHTML = '';\n",
              "          dataTable['output_type'] = 'display_data';\n",
              "          await google.colab.output.renderOutput(dataTable, element);\n",
              "          const docLink = document.createElement('div');\n",
              "          docLink.innerHTML = docLinkHtml;\n",
              "          element.appendChild(docLink);\n",
              "        }\n",
              "      </script>\n",
              "    </div>\n",
              "  </div>\n",
              "  "
            ]
          },
          "metadata": {},
          "execution_count": 14
        }
      ]
    },
    {
      "cell_type": "code",
      "source": [
        "dfdoc[\"text_to_lower\"] = dfdoc[\"text_wo_stop\"].str.lower()\n",
        "dfdoc.head(10)"
      ],
      "metadata": {
        "id": "jv9Rv0Ta4gPH",
        "colab": {
          "base_uri": "https://localhost:8080/",
          "height": 581
        },
        "outputId": "795ac046-5a93-4fc5-e28d-e8621dd85aaa"
      },
      "execution_count": 15,
      "outputs": [
        {
          "output_type": "execute_result",
          "data": {
            "text/plain": [
              "                                                Docs  \\\n",
              "0  18 Editions of the Dewey Decimal Classificatio...   \n",
              "1  Use Made of Technical Libraries Slater, M. Thi...   \n",
              "2  Two Kinds of Power An Essay on Bibliographic C...   \n",
              "3  Systems Analysis of a University Library; fina...   \n",
              "4  A Library Management Game: a report on a resea...   \n",
              "5  Abstracting Concepts and Methods Borko, H. Gra...   \n",
              "6  Academic Library Buildings A Guide to Architec...   \n",
              "7  The Academic Library Essays in Honor of Guy R....   \n",
              "8  Access to Libraries in College Hyman, R.T. Thi...   \n",
              "9  Access to Periodical Resources Palmour, V.E. T...   \n",
              "\n",
              "                                       text_wo_punct  \\\n",
              "0  18 Editions of the Dewey Decimal Classificatio...   \n",
              "1  Use Made of Technical Libraries Slater M This ...   \n",
              "2  Two Kinds of Power An Essay on Bibliographic C...   \n",
              "3  Systems Analysis of a University Library final...   \n",
              "4  A Library Management Game a report on a resear...   \n",
              "5  Abstracting Concepts and Methods Borko H Gradu...   \n",
              "6  Academic Library Buildings A Guide to Architec...   \n",
              "7  The Academic Library Essays in Honor of Guy R ...   \n",
              "8  Access to Libraries in College Hyman RT This s...   \n",
              "9  Access to Periodical Resources Palmour VE The ...   \n",
              "\n",
              "                                        text_wo_stop  \\\n",
              "0  18 Editions Dewey Decimal Classifications Coma...   \n",
              "1  Use Made Technical Libraries Slater M This rep...   \n",
              "2  Two Kinds Power An Essay Bibliographic Control...   \n",
              "3  Systems Analysis University Library final repo...   \n",
              "4  A Library Management Game report research proj...   \n",
              "5  Abstracting Concepts Methods Borko H Graduate ...   \n",
              "6  Academic Library Buildings A Guide Architectur...   \n",
              "7  The Academic Library Essays Honor Guy R Lyle F...   \n",
              "8  Access Libraries College Hyman RT This study a...   \n",
              "9  Access Periodical Resources Palmour VE The pur...   \n",
              "\n",
              "                                       text_to_lower  \n",
              "0  18 editions dewey decimal classifications coma...  \n",
              "1  use made technical libraries slater m this rep...  \n",
              "2  two kinds power an essay bibliographic control...  \n",
              "3  systems analysis university library final repo...  \n",
              "4  a library management game report research proj...  \n",
              "5  abstracting concepts methods borko h graduate ...  \n",
              "6  academic library buildings a guide architectur...  \n",
              "7  the academic library essays honor guy r lyle f...  \n",
              "8  access libraries college hyman rt this study a...  \n",
              "9  access periodical resources palmour ve the pur...  "
            ],
            "text/html": [
              "\n",
              "  <div id=\"df-d360fc26-d531-4f79-a330-cabe1c04d1c2\">\n",
              "    <div class=\"colab-df-container\">\n",
              "      <div>\n",
              "<style scoped>\n",
              "    .dataframe tbody tr th:only-of-type {\n",
              "        vertical-align: middle;\n",
              "    }\n",
              "\n",
              "    .dataframe tbody tr th {\n",
              "        vertical-align: top;\n",
              "    }\n",
              "\n",
              "    .dataframe thead th {\n",
              "        text-align: right;\n",
              "    }\n",
              "</style>\n",
              "<table border=\"1\" class=\"dataframe\">\n",
              "  <thead>\n",
              "    <tr style=\"text-align: right;\">\n",
              "      <th></th>\n",
              "      <th>Docs</th>\n",
              "      <th>text_wo_punct</th>\n",
              "      <th>text_wo_stop</th>\n",
              "      <th>text_to_lower</th>\n",
              "    </tr>\n",
              "  </thead>\n",
              "  <tbody>\n",
              "    <tr>\n",
              "      <th>0</th>\n",
              "      <td>18 Editions of the Dewey Decimal Classificatio...</td>\n",
              "      <td>18 Editions of the Dewey Decimal Classificatio...</td>\n",
              "      <td>18 Editions Dewey Decimal Classifications Coma...</td>\n",
              "      <td>18 editions dewey decimal classifications coma...</td>\n",
              "    </tr>\n",
              "    <tr>\n",
              "      <th>1</th>\n",
              "      <td>Use Made of Technical Libraries Slater, M. Thi...</td>\n",
              "      <td>Use Made of Technical Libraries Slater M This ...</td>\n",
              "      <td>Use Made Technical Libraries Slater M This rep...</td>\n",
              "      <td>use made technical libraries slater m this rep...</td>\n",
              "    </tr>\n",
              "    <tr>\n",
              "      <th>2</th>\n",
              "      <td>Two Kinds of Power An Essay on Bibliographic C...</td>\n",
              "      <td>Two Kinds of Power An Essay on Bibliographic C...</td>\n",
              "      <td>Two Kinds Power An Essay Bibliographic Control...</td>\n",
              "      <td>two kinds power an essay bibliographic control...</td>\n",
              "    </tr>\n",
              "    <tr>\n",
              "      <th>3</th>\n",
              "      <td>Systems Analysis of a University Library; fina...</td>\n",
              "      <td>Systems Analysis of a University Library final...</td>\n",
              "      <td>Systems Analysis University Library final repo...</td>\n",
              "      <td>systems analysis university library final repo...</td>\n",
              "    </tr>\n",
              "    <tr>\n",
              "      <th>4</th>\n",
              "      <td>A Library Management Game: a report on a resea...</td>\n",
              "      <td>A Library Management Game a report on a resear...</td>\n",
              "      <td>A Library Management Game report research proj...</td>\n",
              "      <td>a library management game report research proj...</td>\n",
              "    </tr>\n",
              "    <tr>\n",
              "      <th>5</th>\n",
              "      <td>Abstracting Concepts and Methods Borko, H. Gra...</td>\n",
              "      <td>Abstracting Concepts and Methods Borko H Gradu...</td>\n",
              "      <td>Abstracting Concepts Methods Borko H Graduate ...</td>\n",
              "      <td>abstracting concepts methods borko h graduate ...</td>\n",
              "    </tr>\n",
              "    <tr>\n",
              "      <th>6</th>\n",
              "      <td>Academic Library Buildings A Guide to Architec...</td>\n",
              "      <td>Academic Library Buildings A Guide to Architec...</td>\n",
              "      <td>Academic Library Buildings A Guide Architectur...</td>\n",
              "      <td>academic library buildings a guide architectur...</td>\n",
              "    </tr>\n",
              "    <tr>\n",
              "      <th>7</th>\n",
              "      <td>The Academic Library Essays in Honor of Guy R....</td>\n",
              "      <td>The Academic Library Essays in Honor of Guy R ...</td>\n",
              "      <td>The Academic Library Essays Honor Guy R Lyle F...</td>\n",
              "      <td>the academic library essays honor guy r lyle f...</td>\n",
              "    </tr>\n",
              "    <tr>\n",
              "      <th>8</th>\n",
              "      <td>Access to Libraries in College Hyman, R.T. Thi...</td>\n",
              "      <td>Access to Libraries in College Hyman RT This s...</td>\n",
              "      <td>Access Libraries College Hyman RT This study a...</td>\n",
              "      <td>access libraries college hyman rt this study a...</td>\n",
              "    </tr>\n",
              "    <tr>\n",
              "      <th>9</th>\n",
              "      <td>Access to Periodical Resources Palmour, V.E. T...</td>\n",
              "      <td>Access to Periodical Resources Palmour VE The ...</td>\n",
              "      <td>Access Periodical Resources Palmour VE The pur...</td>\n",
              "      <td>access periodical resources palmour ve the pur...</td>\n",
              "    </tr>\n",
              "  </tbody>\n",
              "</table>\n",
              "</div>\n",
              "      <button class=\"colab-df-convert\" onclick=\"convertToInteractive('df-d360fc26-d531-4f79-a330-cabe1c04d1c2')\"\n",
              "              title=\"Convert this dataframe to an interactive table.\"\n",
              "              style=\"display:none;\">\n",
              "        \n",
              "  <svg xmlns=\"http://www.w3.org/2000/svg\" height=\"24px\"viewBox=\"0 0 24 24\"\n",
              "       width=\"24px\">\n",
              "    <path d=\"M0 0h24v24H0V0z\" fill=\"none\"/>\n",
              "    <path d=\"M18.56 5.44l.94 2.06.94-2.06 2.06-.94-2.06-.94-.94-2.06-.94 2.06-2.06.94zm-11 1L8.5 8.5l.94-2.06 2.06-.94-2.06-.94L8.5 2.5l-.94 2.06-2.06.94zm10 10l.94 2.06.94-2.06 2.06-.94-2.06-.94-.94-2.06-.94 2.06-2.06.94z\"/><path d=\"M17.41 7.96l-1.37-1.37c-.4-.4-.92-.59-1.43-.59-.52 0-1.04.2-1.43.59L10.3 9.45l-7.72 7.72c-.78.78-.78 2.05 0 2.83L4 21.41c.39.39.9.59 1.41.59.51 0 1.02-.2 1.41-.59l7.78-7.78 2.81-2.81c.8-.78.8-2.07 0-2.86zM5.41 20L4 18.59l7.72-7.72 1.47 1.35L5.41 20z\"/>\n",
              "  </svg>\n",
              "      </button>\n",
              "      \n",
              "  <style>\n",
              "    .colab-df-container {\n",
              "      display:flex;\n",
              "      flex-wrap:wrap;\n",
              "      gap: 12px;\n",
              "    }\n",
              "\n",
              "    .colab-df-convert {\n",
              "      background-color: #E8F0FE;\n",
              "      border: none;\n",
              "      border-radius: 50%;\n",
              "      cursor: pointer;\n",
              "      display: none;\n",
              "      fill: #1967D2;\n",
              "      height: 32px;\n",
              "      padding: 0 0 0 0;\n",
              "      width: 32px;\n",
              "    }\n",
              "\n",
              "    .colab-df-convert:hover {\n",
              "      background-color: #E2EBFA;\n",
              "      box-shadow: 0px 1px 2px rgba(60, 64, 67, 0.3), 0px 1px 3px 1px rgba(60, 64, 67, 0.15);\n",
              "      fill: #174EA6;\n",
              "    }\n",
              "\n",
              "    [theme=dark] .colab-df-convert {\n",
              "      background-color: #3B4455;\n",
              "      fill: #D2E3FC;\n",
              "    }\n",
              "\n",
              "    [theme=dark] .colab-df-convert:hover {\n",
              "      background-color: #434B5C;\n",
              "      box-shadow: 0px 1px 3px 1px rgba(0, 0, 0, 0.15);\n",
              "      filter: drop-shadow(0px 1px 2px rgba(0, 0, 0, 0.3));\n",
              "      fill: #FFFFFF;\n",
              "    }\n",
              "  </style>\n",
              "\n",
              "      <script>\n",
              "        const buttonEl =\n",
              "          document.querySelector('#df-d360fc26-d531-4f79-a330-cabe1c04d1c2 button.colab-df-convert');\n",
              "        buttonEl.style.display =\n",
              "          google.colab.kernel.accessAllowed ? 'block' : 'none';\n",
              "\n",
              "        async function convertToInteractive(key) {\n",
              "          const element = document.querySelector('#df-d360fc26-d531-4f79-a330-cabe1c04d1c2');\n",
              "          const dataTable =\n",
              "            await google.colab.kernel.invokeFunction('convertToInteractive',\n",
              "                                                     [key], {});\n",
              "          if (!dataTable) return;\n",
              "\n",
              "          const docLinkHtml = 'Like what you see? Visit the ' +\n",
              "            '<a target=\"_blank\" href=https://colab.research.google.com/notebooks/data_table.ipynb>data table notebook</a>'\n",
              "            + ' to learn more about interactive tables.';\n",
              "          element.innerHTML = '';\n",
              "          dataTable['output_type'] = 'display_data';\n",
              "          await google.colab.output.renderOutput(dataTable, element);\n",
              "          const docLink = document.createElement('div');\n",
              "          docLink.innerHTML = docLinkHtml;\n",
              "          element.appendChild(docLink);\n",
              "        }\n",
              "      </script>\n",
              "    </div>\n",
              "  </div>\n",
              "  "
            ]
          },
          "metadata": {},
          "execution_count": 15
        }
      ]
    },
    {
      "cell_type": "code",
      "source": [
        "from collections import Counter\n",
        "cnt = Counter()\n",
        "for text in dfdoc[\"text_to_lower\"].values:\n",
        "    for word in text.split():\n",
        "        cnt[word] += 1\n",
        "        \n",
        "cnt.most_common(10)"
      ],
      "metadata": {
        "id": "auD08Abs5Ad4",
        "colab": {
          "base_uri": "https://localhost:8080/"
        },
        "outputId": "48a6eb9c-0d2f-437b-8cce-01495c4ef39a"
      },
      "execution_count": 16,
      "outputs": [
        {
          "output_type": "execute_result",
          "data": {
            "text/plain": [
              "[('the', 2090),\n",
              " ('information', 1573),\n",
              " ('library', 1207),\n",
              " ('system', 751),\n",
              " ('a', 727),\n",
              " ('libraries', 611),\n",
              " ('data', 586),\n",
              " ('research', 565),\n",
              " ('retrieval', 550),\n",
              " ('this', 534)]"
            ]
          },
          "metadata": {},
          "execution_count": 16
        }
      ]
    },
    {
      "cell_type": "code",
      "source": [
        "FREQWORDS = set([w for (w, wc) in cnt.most_common(10)])\n",
        "def remove_freqwords(text):\n",
        "    \"\"\"custom function to remove the frequent words\"\"\"\n",
        "    return \" \".join([word for word in str(text).split() if word not in FREQWORDS])\n",
        "\n",
        "dfdoc[\"text_wo_stopfreq\"] = dfdoc[\"text_to_lower\"].apply(lambda text: remove_freqwords(text))\n",
        "dfdoc.head()"
      ],
      "metadata": {
        "id": "rfxlFJxA50e3"
      },
      "execution_count": null,
      "outputs": []
    },
    {
      "cell_type": "code",
      "source": [
        "# Drop the two columns which are no more needed \n",
        "dfdoc.drop([\"text_wo_punct\", \"text_to_lower\"], axis=1, inplace=True)\n",
        "\n",
        "n_rare_words = 10\n",
        "RAREWORDS = set([w for (w, wc) in cnt.most_common()[:-n_rare_words-1:-1]])\n",
        "def remove_rarewords(text):\n",
        "    \"\"\"custom function to remove the rare words\"\"\"\n",
        "    return \" \".join([word for word in str(text).split() if word not in RAREWORDS])\n",
        "\n",
        "dfdoc[\"text_wo_stopfreqrare\"] = dfdoc[\"text_wo_stopfreq\"].apply(lambda text: remove_rarewords(text))\n",
        "dfdoc.head()"
      ],
      "metadata": {
        "id": "SsDP8bcC6OS9"
      },
      "execution_count": null,
      "outputs": []
    },
    {
      "cell_type": "code",
      "source": [
        "from nltk.stem.porter import PorterStemmer\n",
        "\n",
        "# Drop the two columns \n",
        "dfdoc.drop([\"text_wo_stopfreq\"], axis=1, inplace=True) \n",
        "\n",
        "stemmer = PorterStemmer()\n",
        "def stem_words(text):\n",
        "    return \" \".join([stemmer.stem(word) for word in text.split()])\n",
        "\n",
        "dfdoc[\"text_stemmed\"] = dfdoc[\"text_wo_stopfreqrare\"].apply(lambda text: stem_words(text))\n",
        "dfdoc.head()"
      ],
      "metadata": {
        "id": "KnxAMUO96lRW"
      },
      "execution_count": null,
      "outputs": []
    },
    {
      "cell_type": "code",
      "source": [
        "from nltk.stem import WordNetLemmatizer\n",
        "nltk.download('wordnet')\n",
        "lemmatizer = WordNetLemmatizer()\n",
        "def lemmatize_words(text):\n",
        "    return \" \".join([lemmatizer.lemmatize(word) for word in text.split()])\n",
        "\n",
        "dfdoc[\"text_lemmatized\"] = dfdoc[\"text_wo_stopfreqrare\"].apply(lambda text: lemmatize_words(text))\n",
        "dfdoc.head()"
      ],
      "metadata": {
        "id": "z4DLwBL_61qi"
      },
      "execution_count": null,
      "outputs": []
    },
    {
      "cell_type": "code",
      "source": [
        "dfdoc_mesh=pd.DataFrame(dfdoc[\"text_lemmatized\"])"
      ],
      "metadata": {
        "id": "_ekxpnCB9n0S"
      },
      "execution_count": null,
      "outputs": []
    },
    {
      "cell_type": "code",
      "source": [
        "dfdoc_mesh"
      ],
      "metadata": {
        "id": "0iCv4CcC94NG"
      },
      "execution_count": null,
      "outputs": []
    },
    {
      "cell_type": "code",
      "source": [
        "qrys = []\n",
        "for i in range(1,len(qry_set)+1):\n",
        "    qrys.append(qry_set[str(i)])\n",
        "    qrdoc=pd.DataFrame(qrys,columns={'Query'})"
      ],
      "metadata": {
        "id": "ByGHIrh7FrZl"
      },
      "execution_count": null,
      "outputs": []
    },
    {
      "cell_type": "code",
      "source": [
        "print(qrdoc)"
      ],
      "metadata": {
        "id": "ZuzOo2f8HELw"
      },
      "execution_count": null,
      "outputs": []
    },
    {
      "cell_type": "code",
      "source": [
        "qrdoc[\"text_lower\"] = qrdoc[\"Query\"].str.lower()\n",
        "qrdoc.head()"
      ],
      "metadata": {
        "id": "537RY5dNHTa_"
      },
      "execution_count": null,
      "outputs": []
    },
    {
      "cell_type": "code",
      "source": [
        "qrdoc.drop([\"text_lower\"], axis=1, inplace=True)\n",
        "\n",
        "PUNCT_TO_REMOVE = string.punctuation\n",
        "def remove_punctuation(text):\n",
        "    \"\"\"custom function to remove the punctuation\"\"\"\n",
        "    return text.translate(str.maketrans('', '', PUNCT_TO_REMOVE))\n",
        "\n",
        "qrdoc[\"text_wo_punct\"] = qrdoc[\"Query\"].apply(lambda text: remove_punctuation(text))\n",
        "qrdoc.head()"
      ],
      "metadata": {
        "id": "t74g0MSwHn3f"
      },
      "execution_count": null,
      "outputs": []
    },
    {
      "cell_type": "code",
      "source": [
        "nltk.download('stopwords')\n",
        "from nltk.corpus import stopwords\n",
        "\", \".join(stopwords.words('english'))"
      ],
      "metadata": {
        "id": "t8F8A54-I3Y0"
      },
      "execution_count": null,
      "outputs": []
    },
    {
      "cell_type": "code",
      "source": [
        "STOPWORDS = set(stopwords.words('english'))\n",
        "def remove_stopwords(text):\n",
        "    \"\"\"custom function to remove the stopwords\"\"\"\n",
        "    return \" \".join([word for word in str(text).split() if word not in STOPWORDS])\n",
        "\n",
        "qrdoc[\"text_wo_stop\"] = qrdoc[\"text_wo_punct\"].apply(lambda text: remove_stopwords(text))\n",
        "qrdoc.head()"
      ],
      "metadata": {
        "id": "Uvyblm1CI_sy"
      },
      "execution_count": null,
      "outputs": []
    },
    {
      "cell_type": "code",
      "source": [
        "qrdoc[\"text_to_lower\"] = qrdoc[\"text_wo_stop\"].str.lower()\n",
        "qrdoc.head(10)"
      ],
      "metadata": {
        "id": "ODRJgTKHJBU7"
      },
      "execution_count": null,
      "outputs": []
    },
    {
      "cell_type": "code",
      "source": [
        "from collections import Counter\n",
        "cnt = Counter()\n",
        "for text in qrdoc[\"text_to_lower\"].values:\n",
        "    for word in text.split():\n",
        "        cnt[word] += 1\n",
        "        \n",
        "cnt.most_common(10)"
      ],
      "metadata": {
        "id": "sl7M331tJo0v"
      },
      "execution_count": null,
      "outputs": []
    },
    {
      "cell_type": "code",
      "source": [
        "from nltk.stem.porter import PorterStemmer\n",
        "\n",
        "# Drop the two columns \n",
        "#dfdoc.drop([\"text_wo_stopfreq\"], axis=1, inplace=True) \n",
        "\n",
        "stemmer = PorterStemmer()\n",
        "def stem_words(text):\n",
        "    return \" \".join([stemmer.stem(word) for word in text.split()])\n",
        "\n",
        "qrdoc[\"text_stemmed\"] = qrdoc[\"text_to_lower\"].apply(lambda text: stem_words(text))\n",
        "qrdoc.head()"
      ],
      "metadata": {
        "id": "Z2yrRHZ8Ki0J"
      },
      "execution_count": null,
      "outputs": []
    },
    {
      "cell_type": "code",
      "source": [
        "from nltk.stem import WordNetLemmatizer\n",
        "nltk.download('wordnet')\n",
        "lemmatizer = WordNetLemmatizer()\n",
        "def lemmatize_words(text):\n",
        "    return \" \".join([lemmatizer.lemmatize(word) for word in text.split()])\n",
        "\n",
        "qrdoc[\"text_lemmatized\"] = qrdoc[\"text_stemmed\"].apply(lambda text: lemmatize_words(text))\n",
        "qrdoc.head()"
      ],
      "metadata": {
        "id": "-0kiN-zQLAWC"
      },
      "execution_count": null,
      "outputs": []
    },
    {
      "cell_type": "code",
      "source": [
        "qrdoc_mesh=pd.DataFrame(qrdoc[\"text_lemmatized\"])"
      ],
      "metadata": {
        "id": "rul0b0bULWIy"
      },
      "execution_count": null,
      "outputs": []
    },
    {
      "cell_type": "code",
      "source": [
        "qrdoc_mesh"
      ],
      "metadata": {
        "id": "Ct4aGAOyLduJ"
      },
      "execution_count": null,
      "outputs": []
    },
    {
      "cell_type": "code",
      "source": [
        "def splitbagorwords(text):\n",
        "  document =text\n",
        "  bagofwords=document.split(' ')\n",
        "  return bagofwords"
      ],
      "metadata": {
        "id": "YCTWQwpTL_4O"
      },
      "execution_count": null,
      "outputs": []
    },
    {
      "cell_type": "code",
      "source": [
        "qrdoc_mesh['bagG']=qrdoc_mesh['text_lemmatized'].apply(lambda row: splitbagorwords(row))"
      ],
      "metadata": {
        "id": "gMKprS7cMYCd"
      },
      "execution_count": null,
      "outputs": []
    },
    {
      "cell_type": "code",
      "source": [
        "qrdoc_mesh"
      ],
      "metadata": {
        "id": "k8NKfFqSMhwf"
      },
      "execution_count": null,
      "outputs": []
    },
    {
      "cell_type": "code",
      "source": [
        "def uniq(text1):\n",
        "  return set(text1)"
      ],
      "metadata": {
        "id": "_-G1Fzi4PefF"
      },
      "execution_count": null,
      "outputs": []
    },
    {
      "cell_type": "code",
      "source": [
        "qrdoc_mesh['uniquewordscc']=qrdoc_mesh['bagG'].apply(lambda row: uniq(row))"
      ],
      "metadata": {
        "id": "QTWw6r4QPm_L"
      },
      "execution_count": null,
      "outputs": []
    },
    {
      "cell_type": "code",
      "source": [
        "qrdoc_mesh"
      ],
      "metadata": {
        "id": "ApSItcT3PnHY"
      },
      "execution_count": null,
      "outputs": []
    },
    {
      "cell_type": "code",
      "source": [
        "qrdoc_mesh[\"UniwordCount\"]=qrdoc_mesh['uniquewordscc'].apply(lambda x: len(str(x).split()))"
      ],
      "metadata": {
        "id": "QCWZMPakQDQv"
      },
      "execution_count": null,
      "outputs": []
    },
    {
      "cell_type": "code",
      "source": [
        "qrdoc_mesh"
      ],
      "metadata": {
        "id": "NVumsUtWQKHu"
      },
      "execution_count": null,
      "outputs": []
    },
    {
      "cell_type": "code",
      "source": [
        "def numwords(uniqtext,bagw):\n",
        "  numOfWords = dict.fromkeys(uniqtext, 0)\n",
        "  for word in bagw:\n",
        "    numOfWords[word] += 1\n",
        "  return numOfWords"
      ],
      "metadata": {
        "id": "RfuIodLVQKn8"
      },
      "execution_count": null,
      "outputs": []
    },
    {
      "cell_type": "code",
      "source": [
        "qrdoc_mesh[\"numwords\"]=qrdoc_mesh.apply(lambda row:numwords(row['uniquewordscc'],row['bagG']),axis=1)"
      ],
      "metadata": {
        "id": "JR-S96w0QZAO"
      },
      "execution_count": null,
      "outputs": []
    },
    {
      "cell_type": "code",
      "source": [
        "qrdoc_mesh"
      ],
      "metadata": {
        "id": "2X2HaySqQidS"
      },
      "execution_count": null,
      "outputs": []
    },
    {
      "cell_type": "code",
      "source": [
        "def computeTF(wordDict, bagOfWords):\n",
        "    tfDict = {}\n",
        "    bagOfWordsCount = len(bagOfWords)\n",
        "    for word, count in wordDict.items():\n",
        "        tfDict[word] = count / float(bagOfWordsCount)\n",
        "    return tfDict"
      ],
      "metadata": {
        "id": "0mRM8BdoQo_e"
      },
      "execution_count": null,
      "outputs": []
    },
    {
      "cell_type": "code",
      "source": [
        "qrdoc_mesh[\"tf\"]=qrdoc_mesh.apply(lambda row:computeTF(row['numwords'],row['bagG']),axis=1)"
      ],
      "metadata": {
        "id": "eRGoY-p5Q8bL"
      },
      "execution_count": null,
      "outputs": []
    },
    {
      "cell_type": "code",
      "source": [
        "qrdoc_mesh.head(10)"
      ],
      "metadata": {
        "id": "EfYioC8TRCe7"
      },
      "execution_count": null,
      "outputs": []
    },
    {
      "cell_type": "code",
      "source": [
        "import pandas as pd\n",
        "import numpy as np\n",
        "from sklearn.feature_extraction.text import TfidfVectorizer\n",
        "from sklearn.feature_extraction.text import CountVectorizer"
      ],
      "metadata": {
        "id": "gWBiU_x2-KY7"
      },
      "execution_count": null,
      "outputs": []
    },
    {
      "cell_type": "code",
      "source": [
        "cv=CountVectorizer()\n",
        "x=cv.fit_transform(dfdoc_mesh).toarray()"
      ],
      "metadata": {
        "id": "3DSZ-VmzDSNE"
      },
      "execution_count": null,
      "outputs": []
    },
    {
      "cell_type": "code",
      "source": [
        "x"
      ],
      "metadata": {
        "id": "5par_3CpEYtn"
      },
      "execution_count": null,
      "outputs": []
    },
    {
      "cell_type": "code",
      "source": [
        "def splitbagorwords(text):\n",
        "  document =text\n",
        "  bagofwords=document.split(' ')\n",
        "  return bagofwords"
      ],
      "metadata": {
        "id": "lNekFQet-QQt"
      },
      "execution_count": null,
      "outputs": []
    },
    {
      "cell_type": "code",
      "source": [
        "dfdoc_mesh['bagG']=dfdoc_mesh['text_lemmatized'].apply(lambda row: splitbagorwords(row))"
      ],
      "metadata": {
        "id": "PWBINJhE-Vnn"
      },
      "execution_count": null,
      "outputs": []
    },
    {
      "cell_type": "code",
      "source": [
        "dfdoc_mesh"
      ],
      "metadata": {
        "id": "dyLr4dBv-e2A"
      },
      "execution_count": null,
      "outputs": []
    },
    {
      "cell_type": "code",
      "source": [
        ""
      ],
      "metadata": {
        "id": "Ize4w7jWPX2P"
      },
      "execution_count": null,
      "outputs": []
    },
    {
      "cell_type": "code",
      "source": [
        "def uniq(text1):\n",
        "  return set(text1)"
      ],
      "metadata": {
        "id": "JsRhhn0d-lBF"
      },
      "execution_count": null,
      "outputs": []
    },
    {
      "cell_type": "code",
      "source": [
        "dfdoc_mesh['uniquewordscc']=dfdoc_mesh['bagG'].apply(lambda row: uniq(row))"
      ],
      "metadata": {
        "id": "01-jrP00-pBp"
      },
      "execution_count": null,
      "outputs": []
    },
    {
      "cell_type": "code",
      "source": [
        "dfdoc_mesh"
      ],
      "metadata": {
        "id": "4gh6V-ys-sqw"
      },
      "execution_count": null,
      "outputs": []
    },
    {
      "cell_type": "code",
      "source": [
        "dfdoc_mesh[\"UniwordCount\"]=dfdoc_mesh['uniquewordscc'].apply(lambda x: len(str(x).split()))\n",
        "dfdoc_mesh"
      ],
      "metadata": {
        "id": "fh1-Mvl2S2l2"
      },
      "execution_count": null,
      "outputs": []
    },
    {
      "cell_type": "code",
      "source": [
        ""
      ],
      "metadata": {
        "id": "yuv81_xYf5QR"
      },
      "execution_count": null,
      "outputs": []
    },
    {
      "cell_type": "code",
      "source": [
        "#datasethoc_mesh[\"CharCount\"]=datasethoc_mesh['uniquewordscc'].apply(lambda x: len(x))"
      ],
      "metadata": {
        "id": "6liGJ70NVKOt"
      },
      "execution_count": null,
      "outputs": []
    },
    {
      "cell_type": "code",
      "source": [
        "def numwords(uniqtext,bagw):\n",
        "  numOfWords = dict.fromkeys(uniqtext, 0)\n",
        "  for word in bagw:\n",
        "    numOfWords[word] += 1\n",
        "  return numOfWords"
      ],
      "metadata": {
        "id": "W4WW2swt-yew"
      },
      "execution_count": null,
      "outputs": []
    },
    {
      "cell_type": "code",
      "source": [
        "dfdoc_mesh[\"numwords\"]=dfdoc_mesh.apply(lambda row:numwords(row['uniquewordscc'],row['bagG']),axis=1)"
      ],
      "metadata": {
        "id": "GwyNIJzw-2i6"
      },
      "execution_count": null,
      "outputs": []
    },
    {
      "cell_type": "code",
      "source": [
        "dfdoc_mesh"
      ],
      "metadata": {
        "id": "0E59lL6X-6l-"
      },
      "execution_count": null,
      "outputs": []
    },
    {
      "cell_type": "code",
      "source": [
        "def computeTF(wordDict, bagOfWords):\n",
        "    tfDict = {}\n",
        "    bagOfWordsCount = len(bagOfWords)\n",
        "    for word, count in wordDict.items():\n",
        "        tfDict[word] = count / float(bagOfWordsCount)\n",
        "    return tfDict"
      ],
      "metadata": {
        "id": "6mjU0LJV-783"
      },
      "execution_count": null,
      "outputs": []
    },
    {
      "cell_type": "code",
      "source": [
        "dfdoc_mesh[\"tf\"]=dfdoc_mesh.apply(lambda row:computeTF(row['numwords'],row['bagG']),axis=1)"
      ],
      "metadata": {
        "id": "g_N1E0yS_Bnn"
      },
      "execution_count": null,
      "outputs": []
    },
    {
      "cell_type": "code",
      "source": [
        "dfdoc_mesh.head(10)"
      ],
      "metadata": {
        "id": "AxQfDoP0_FIV"
      },
      "execution_count": null,
      "outputs": []
    },
    {
      "cell_type": "code",
      "source": [
        "#datasethoc_mesh.to_csv(\"featurematrixlemm.csv\")"
      ],
      "metadata": {
        "id": "5u2MeLqJ_J-w"
      },
      "execution_count": null,
      "outputs": []
    },
    {
      "cell_type": "code",
      "source": [
        "#from google.colab import files\n",
        "#files.download('featurematrixlemm.csv')"
      ],
      "metadata": {
        "id": "VzOs6O04_g9P"
      },
      "execution_count": null,
      "outputs": []
    },
    {
      "cell_type": "code",
      "source": [
        "def computeIDF(documents):\n",
        "    import math\n",
        "    N = len(documents)\n",
        "    \n",
        "    idfDict = dict.fromkeys(documents[0].keys(), 0)\n",
        "    for document in documents:\n",
        "        for word, val in document.items():\n",
        "            if val > 0:\n",
        "                idfDict[word] += 1\n",
        "    \n",
        "    for word, val in idfDict.items():\n",
        "        idfDict[word] = math.log(N / float(val))\n",
        "    return idfDict"
      ],
      "metadata": {
        "id": "lT7mTFgfA7gb"
      },
      "execution_count": null,
      "outputs": []
    },
    {
      "cell_type": "code",
      "source": [
        "docs = dfdoc_mesh['text_lemmatized'].tolist()\n",
        "tfidfv = TfidfVectorizer(analyzer='word', stop_words='english',)\n",
        "tfidf_fit = tfidfv.fit(docs)\n",
        "\n",
        "tfidf_doc = tfidf_fit.transform(docs)\n",
        "tfidf_doc = pd.DataFrame.sparse.from_spmatrix(tfidf_doc)\n",
        "tfidf_doc = tfidf_doc.apply(lambda num: num.astype(np.float64))\n",
        "tfidf_doc.to_csv('/content/drive/MyDrive/NLP/archive/dfdoc_mesh_tfidf.csv')\n",
        "#content/drive/MyDrive/NLP/archive/"
      ],
      "metadata": {
        "id": "Ww4hsgqPRmC1"
      },
      "execution_count": null,
      "outputs": []
    },
    {
      "cell_type": "code",
      "source": [
        "querys = qrdoc_mesh['text_lemmatized'].tolist()\n",
        "tfidf_qry = tfidf_fit.transform(querys)\n",
        "tfidf_qry = pd.DataFrame.sparse.from_spmatrix(tfidf_qry)\n",
        "tfidf_qry = tfidf_qry.apply(lambda num: num.astype(np.float64))\n",
        "tfidf_qry.to_csv('/content/drive/MyDrive/NLP/archive/qrdoc_mesh_tfidf.csv')"
      ],
      "metadata": {
        "id": "vpYeJegHSR9B"
      },
      "execution_count": null,
      "outputs": []
    },
    {
      "cell_type": "code",
      "source": [
        "tfidf_doc = pd.read_csv('/content/drive/MyDrive/NLP/archive/dfdoc_mesh_tfidf.csv')\n",
        "tfidf_doc.drop(tfidf_doc.columns[0], axis = 1, inplace = True)\n",
        "tfidf_quer = pd.read_csv('/content/drive/MyDrive/NLP/archive/qrdoc_mesh_tfidf.csv')\n",
        "tfidf_quer.drop(tfidf_quer.columns[0], axis = 1, inplace = True)"
      ],
      "metadata": {
        "id": "c3r4obG6Womp"
      },
      "execution_count": null,
      "outputs": []
    },
    {
      "cell_type": "code",
      "source": [
        "tfidf_doc.shape"
      ],
      "metadata": {
        "id": "pNhd--AEb_It"
      },
      "execution_count": null,
      "outputs": []
    },
    {
      "cell_type": "code",
      "source": [
        "tfidf_quer.shape"
      ],
      "metadata": {
        "id": "ll9Jl0BCcFlp"
      },
      "execution_count": null,
      "outputs": []
    },
    {
      "cell_type": "code",
      "source": [
        "from scipy.spatial import distance"
      ],
      "metadata": {
        "id": "MkRVR9jBX_ql"
      },
      "execution_count": null,
      "outputs": []
    },
    {
      "cell_type": "code",
      "source": [
        "def retrieveAll(tfidf_doc, tfidf_qry):\n",
        "  docT = tfidf_doc.T\n",
        "  qryT = tfidf_quer.T\n",
        "  cosine_sim = []\n",
        "  sorted_ind = []\n",
        "  for i in qryT.columns:\n",
        "    result = []\n",
        "    vec1 = qryT[i]\n",
        "    for j in docT.columns:\n",
        "      vec2 = docT[j]\n",
        "      result.append(1 - distance.cosine(vec1, vec2))\n",
        "    sort = np.argsort(result)\n",
        "    sort = sort[::-1]\n",
        "    sorted_ind.append(sort)\n",
        "    cosine_sim.append(result)\n",
        "  return cosine_sim,sorted_ind"
      ],
      "metadata": {
        "id": "DvlBMt89iDAV"
      },
      "execution_count": null,
      "outputs": []
    },
    {
      "cell_type": "code",
      "source": [
        "cosine_sim, sorted_ind = retrieveAll(tfidf_doc, tfidf_quer)\n",
        "\n",
        "cols = ['D'+str(i) for i in range(1,len(tfidf_doc)+1)]\n",
        "cosine_mat = pd.DataFrame(cosine_sim, columns = cols)\n",
        "cosine_mat.index = np.arange(1, len(cosine_mat) + 1)\n",
        "\n",
        "sorted_index = pd.DataFrame(sorted_ind, columns = np.arange(1, len(tfidf_doc) + 1))\n",
        "sorted_index.index = np.arange(1, len(sorted_index) + 1)\n",
        "\n",
        "cosine_mat.to_csv('/content/drive/MyDrive/NLP/archive/doc_sw_cosine.csv')\n",
        "sorted_index.to_csv('/content/drive/MyDrive/NLP/archive/doc_sw_sorted_index.csv')"
      ],
      "metadata": {
        "id": "eYIRAOfsjXx7"
      },
      "execution_count": null,
      "outputs": []
    },
    {
      "cell_type": "code",
      "source": [
        "cos_matrix = pd.read_csv('/content/drive/MyDrive/NLP/archive/doc_sw_cosine.csv')\n",
        "cos_matrix.drop(cos_matrix.columns[0], axis = 1, inplace = True)\n",
        "sort_ind_value = pd.read_csv('/content/drive/MyDrive/NLP/archive/doc_sw_sorted_index.csv')\n",
        "sort_ind_value.drop(sort_ind_value.columns[0], axis = 1, inplace = True)\n",
        "\n",
        "cosine_sim_value = cos_matrix.values.tolist()\n",
        "sorted_index_value = sort_ind_value.values.tolist()"
      ],
      "metadata": {
        "id": "YjsutG_OYUEd"
      },
      "execution_count": null,
      "outputs": []
    },
    {
      "cell_type": "code",
      "source": [
        "relation = []\n",
        "for i in range(1,len(qry_set)+1):\n",
        "  if i in rel_set.keys():\n",
        "    relation.append(rel_set[i])\n",
        "  else:\n",
        "    relation.append(np.nan)"
      ],
      "metadata": {
        "id": "lOISfEBHZLK_"
      },
      "execution_count": null,
      "outputs": []
    },
    {
      "cell_type": "code",
      "source": [
        "def valid_ret(cos, sort_ind):\n",
        "  valid = [int(ind) for ind in sort_ind if cos[ind] > 0]\n",
        "  return valid\n",
        "\n",
        "qrylist = ['Q'+str(i) for i in range(1,len(tfidf_quer)+1)] # if i in rel_set.keys()]\n",
        "Result = pd.DataFrame(index = qrylist) \n",
        "Result['Cosine Distance Values'] = cosine_sim_value\n",
        "Result['Sorted Doc Index'] = sorted_index_value \n",
        "#Result[\"Unique Doc Count\"]=Result['Sorted Doc Index'].apply(lambda x: len(str(x).split()))\n",
        "Result['Positive Retrieved'] = Result.apply(lambda row: valid_ret(row['Cosine Distance Values'], row['Sorted Doc Index']), axis = 1)\n"
      ],
      "metadata": {
        "id": "-gsmoRH9ZQeV"
      },
      "execution_count": null,
      "outputs": []
    },
    {
      "cell_type": "code",
      "source": [
        "\n",
        "Result.head(20)"
      ],
      "metadata": {
        "id": "LrZAhp09agno"
      },
      "execution_count": null,
      "outputs": []
    },
    {
      "cell_type": "code",
      "source": [
        "print(type((Result['Cosine Distance Values'].iloc[0])))\n",
        "print(type((Result['Sorted Doc Index'].iloc[0])[0]))\n",
        "print(type((Result['Positive Retrieved'].iloc[0])[0]))\n",
        "print(type((Result['Cosine Distance Values'].iloc[0])[0]))"
      ],
      "metadata": {
        "id": "HtUj8AjcbcAd"
      },
      "execution_count": null,
      "outputs": []
    },
    {
      "cell_type": "code",
      "source": [
        "def topMatch(sorted_index, rel_index, top):\n",
        "    ret_index = sorted_index[0:top]\n",
        "    rel_index = [l-1 for l in rel_index]\n",
        "    rel_mtch = []\n",
        "    for index in rel_index:\n",
        "        if index in ret_index:\n",
        "            rel_mtch.append(index)\n",
        "    return rel_mtch"
      ],
      "metadata": {
        "id": "OxMXFHiRbwbc"
      },
      "execution_count": null,
      "outputs": []
    },
    {
      "cell_type": "code",
      "source": [
        "def ret_rel(rel,ret):\n",
        "  return (len(ret), len(rel))\n",
        "\n",
        "# precision = relevant retrieved/total retrieved\n",
        "def precision(ret_rel, n):\n",
        "  ret, rel = ret_rel\n",
        "  return ret/n\n",
        "\n",
        "# recall =  relevent retrieved/total relevant\n",
        "def recall(ret_rel,n):\n",
        "  ret, rel = ret_rel\n",
        "  return ret/rel"
      ],
      "metadata": {
        "id": "3SrPPJkZbzxB"
      },
      "execution_count": null,
      "outputs": []
    },
    {
      "cell_type": "code",
      "source": [
        "total_documents = len(dfdoc_mesh[\"tf\"])"
      ],
      "metadata": {
        "id": "XVO8iaa9a_xW"
      },
      "execution_count": null,
      "outputs": []
    },
    {
      "cell_type": "code",
      "source": [
        "total_documents"
      ],
      "metadata": {
        "id": "7FfWmEiMbl5s"
      },
      "execution_count": null,
      "outputs": []
    },
    {
      "cell_type": "code",
      "source": [
        "def inverse_doc_freq(word):\n",
        "    try:\n",
        "        word_occurance = dfdoc_mesh[word] + 1\n",
        "    except:\n",
        "        word_occurance = 1\n",
        "    return np.log(total_documents/word_occurance)"
      ],
      "metadata": {
        "id": "YkAg0qn8b4ly"
      },
      "execution_count": null,
      "outputs": []
    },
    {
      "cell_type": "code",
      "source": [
        "idfDict"
      ],
      "metadata": {
        "id": "KxuH7M8GLPYj"
      },
      "execution_count": null,
      "outputs": []
    }
  ]
}