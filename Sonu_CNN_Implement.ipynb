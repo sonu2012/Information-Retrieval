{
  "nbformat": 4,
  "nbformat_minor": 0,
  "metadata": {
    "colab": {
      "name": "Sonu CNN Implement.ipynb",
      "provenance": [],
      "collapsed_sections": [],
      "authorship_tag": "ABX9TyPT/njQU5L5fJ//Qu/vXzab",
      "include_colab_link": true
    },
    "kernelspec": {
      "name": "python3",
      "display_name": "Python 3"
    },
    "language_info": {
      "name": "python"
    }
  },
  "cells": [
    {
      "cell_type": "markdown",
      "metadata": {
        "id": "view-in-github",
        "colab_type": "text"
      },
      "source": [
        "<a href=\"https://colab.research.google.com/github/sonu2012/Information-Retrieval/blob/master/Sonu_CNN_Implement.ipynb\" target=\"_parent\"><img src=\"https://colab.research.google.com/assets/colab-badge.svg\" alt=\"Open In Colab\"/></a>"
      ]
    },
    {
      "cell_type": "code",
      "execution_count": 1,
      "metadata": {
        "id": "0LYzsGvLZQqC"
      },
      "outputs": [],
      "source": [
        "import numpy as np # linear algebra\n",
        "import pandas as pd # data processing, CSV file I/O (e.g. pd.read_csv)\n",
        "import tensorflow as tf\n",
        "from keras.layers import Flatten,Dense\n",
        "from keras.models import Sequential\n",
        "#from tensorflow.keras import utils as np_utils\n",
        "#from keras.utils import to_categorical\n",
        "from tensorflow.keras.utils import to_categorical\n",
        "from sklearn.model_selection import train_test_split\n",
        "from keras.models import Sequential\n",
        "from keras.layers import Dense, Dropout, Flatten, Conv2D, MaxPool2D\n",
        "import matplotlib.pyplot as plt\n",
        "import seaborn as sb"
      ]
    },
    {
      "cell_type": "code",
      "source": [
        "from google.colab import drive\n",
        "drive.mount('/content/drive')"
      ],
      "metadata": {
        "colab": {
          "base_uri": "https://localhost:8080/"
        },
        "id": "enSMv52T1F0p",
        "outputId": "31d3c82e-13d8-4443-9dcf-e441c9b5d548"
      },
      "execution_count": 2,
      "outputs": [
        {
          "output_type": "stream",
          "name": "stdout",
          "text": [
            "Drive already mounted at /content/drive; to attempt to forcibly remount, call drive.mount(\"/content/drive\", force_remount=True).\n"
          ]
        }
      ]
    },
    {
      "cell_type": "code",
      "source": [
        "import os\n",
        "for dirname, _, filenames in os.walk('/content/drive/MyDrive/ML'):\n",
        "    for filename in filenames:\n",
        "        print(os.path.join(dirname, filename))"
      ],
      "metadata": {
        "id": "WPgQHZuIaeJ9",
        "colab": {
          "base_uri": "https://localhost:8080/"
        },
        "outputId": "4bc5f21b-7612-4066-b09f-d27d3d05aa7c"
      },
      "execution_count": 3,
      "outputs": [
        {
          "output_type": "stream",
          "name": "stdout",
          "text": [
            "/content/drive/MyDrive/ML/mnist_train.csv\n",
            "/content/drive/MyDrive/ML/mnist_test.csv\n",
            "/content/drive/MyDrive/ML/train.csv\n",
            "/content/drive/MyDrive/ML/test.csv\n",
            "/content/drive/MyDrive/ML/23_TP_Sonu_Regularization_I.docx\n",
            "/content/drive/MyDrive/ML/23_TP_SONU_Regularization_I.pdf\n",
            "/content/drive/MyDrive/ML/Understanding the Regularization Techniques used to Overcome the Problem of Overfitting.docx\n",
            "/content/drive/MyDrive/ML/23_TP_Sonu_Regularization_I.pdf\n",
            "/content/drive/MyDrive/ML/sample_submission.csv\n"
          ]
        }
      ]
    },
    {
      "cell_type": "code",
      "source": [
        "train= pd.read_csv('/content/drive/MyDrive/ML/train.csv')\n",
        "test= pd.read_csv('/content/drive/MyDrive/ML/test.csv')"
      ],
      "metadata": {
        "id": "Z9lfwmxI1acQ"
      },
      "execution_count": 4,
      "outputs": []
    },
    {
      "cell_type": "code",
      "source": [
        "X_train=train.drop('label',axis=1)\n",
        "X_train = X_train / 255.0\n",
        "test = test / 255.0\n",
        "X_train = X_train.values.reshape(-1,28,28,1)\n",
        "test = test.values.reshape(-1,28,28,1)\n",
        "\n",
        "y_train=train['label']\n",
        "y_train=to_categorical(y_train, num_classes=10)\n",
        "y_train[:5]"
      ],
      "metadata": {
        "colab": {
          "base_uri": "https://localhost:8080/"
        },
        "id": "A_nqbnz_1xCJ",
        "outputId": "2e5f4d25-4cc9-4045-fdd1-195e3c77e21a"
      },
      "execution_count": 5,
      "outputs": [
        {
          "output_type": "execute_result",
          "data": {
            "text/plain": [
              "array([[0., 1., 0., 0., 0., 0., 0., 0., 0., 0.],\n",
              "       [1., 0., 0., 0., 0., 0., 0., 0., 0., 0.],\n",
              "       [0., 1., 0., 0., 0., 0., 0., 0., 0., 0.],\n",
              "       [0., 0., 0., 0., 1., 0., 0., 0., 0., 0.],\n",
              "       [1., 0., 0., 0., 0., 0., 0., 0., 0., 0.]], dtype=float32)"
            ]
          },
          "metadata": {},
          "execution_count": 5
        }
      ]
    },
    {
      "cell_type": "code",
      "source": [
        "print(X_train.shape)\n",
        "print(y_train.shape)"
      ],
      "metadata": {
        "colab": {
          "base_uri": "https://localhost:8080/"
        },
        "id": "oft62eunMI46",
        "outputId": "01790fb9-0371-4926-df9d-f82f909ed237"
      },
      "execution_count": 6,
      "outputs": [
        {
          "output_type": "stream",
          "name": "stdout",
          "text": [
            "(42000, 28, 28, 1)\n",
            "(42000, 10)\n"
          ]
        }
      ]
    },
    {
      "cell_type": "code",
      "source": [
        "X_train, X_val, y_train, y_val = train_test_split(X_train, y_train, test_size = 0.1, random_state=2)"
      ],
      "metadata": {
        "id": "WmHJNprRMPLd"
      },
      "execution_count": 7,
      "outputs": []
    },
    {
      "cell_type": "code",
      "source": [
        "plt.imshow(X_train[12][:,:,0])"
      ],
      "metadata": {
        "colab": {
          "base_uri": "https://localhost:8080/",
          "height": 282
        },
        "id": "sHRhuu-vMSaY",
        "outputId": "c56264ed-434e-464f-bcb5-20ee8818c241"
      },
      "execution_count": 13,
      "outputs": [
        {
          "output_type": "execute_result",
          "data": {
            "text/plain": [
              "<matplotlib.image.AxesImage at 0x7f44313a99d0>"
            ]
          },
          "metadata": {},
          "execution_count": 13
        },
        {
          "output_type": "display_data",
          "data": {
            "text/plain": [
              "<Figure size 432x288 with 1 Axes>"
            ],
            "image/png": "[encoded data removed]"
          },
          "metadata": {
            "needs_background": "light"
          }
        }
      ]
    },
    {
      "cell_type": "code",
      "source": [
        "model = Sequential()\n",
        "\n",
        "model.add(Conv2D(filters = 32, kernel_size = (5,5),padding = 'Same',activation ='relu', input_shape = (28,28,1)))\n",
        "model.add(Conv2D(filters = 32, kernel_size = (5,5),padding = 'Same',activation ='relu'))\n",
        "model.add(MaxPool2D(pool_size=(2,2)))\n",
        "model.add(Dropout(0.1))\n",
        "\n",
        "model.add(Conv2D(filters = 64, kernel_size = (3,3),padding = 'Same',activation ='relu'))\n",
        "model.add(Conv2D(filters = 64, kernel_size = (3,3),padding = 'Same',activation ='relu'))\n",
        "model.add(MaxPool2D(pool_size=(2,2), strides=(2,2)))\n",
        "model.add(Dropout(0.2))\n",
        "\n",
        "model.add(Flatten())\n",
        "model.add(Dense(256, activation = \"relu\"))\n",
        "model.add(Dropout(0.4))\n",
        "model.add(Dense(10, activation = \"softmax\"))\n",
        "\n",
        "model.compile(optimizer = 'adam' , loss = \"categorical_crossentropy\", metrics=[\"accuracy\"])\n",
        "\n",
        "model.fit(X_train, y_train, batch_size =136,epochs =10,validation_data = (X_val, y_val), verbose = 2)"
      ],
      "metadata": {
        "colab": {
          "base_uri": "https://localhost:8080/"
        },
        "id": "JQnB42FeMeGl",
        "outputId": "a6e03a6c-4a43-4ee0-80fa-2996a17296fb"
      },
      "execution_count": 9,
      "outputs": [
        {
          "output_type": "stream",
          "name": "stdout",
          "text": [
            "Epoch 1/10\n",
            "278/278 - 172s - loss: 0.2597 - accuracy: 0.9172 - val_loss: 0.0579 - val_accuracy: 0.9798 - 172s/epoch - 619ms/step\n",
            "Epoch 2/10\n",
            "278/278 - 162s - loss: 0.0725 - accuracy: 0.9780 - val_loss: 0.0495 - val_accuracy: 0.9864 - 162s/epoch - 581ms/step\n",
            "Epoch 3/10\n",
            "278/278 - 163s - loss: 0.0491 - accuracy: 0.9842 - val_loss: 0.0405 - val_accuracy: 0.9883 - 163s/epoch - 587ms/step\n",
            "Epoch 4/10\n",
            "278/278 - 166s - loss: 0.0403 - accuracy: 0.9877 - val_loss: 0.0331 - val_accuracy: 0.9898 - 166s/epoch - 597ms/step\n",
            "Epoch 5/10\n",
            "278/278 - 173s - loss: 0.0339 - accuracy: 0.9893 - val_loss: 0.0367 - val_accuracy: 0.9893 - 173s/epoch - 623ms/step\n",
            "Epoch 6/10\n",
            "278/278 - 166s - loss: 0.0292 - accuracy: 0.9908 - val_loss: 0.0409 - val_accuracy: 0.9902 - 166s/epoch - 598ms/step\n",
            "Epoch 7/10\n",
            "278/278 - 164s - loss: 0.0234 - accuracy: 0.9926 - val_loss: 0.0291 - val_accuracy: 0.9929 - 164s/epoch - 590ms/step\n",
            "Epoch 8/10\n",
            "278/278 - 163s - loss: 0.0223 - accuracy: 0.9928 - val_loss: 0.0294 - val_accuracy: 0.9921 - 163s/epoch - 587ms/step\n",
            "Epoch 9/10\n",
            "278/278 - 165s - loss: 0.0196 - accuracy: 0.9934 - val_loss: 0.0290 - val_accuracy: 0.9926 - 165s/epoch - 594ms/step\n",
            "Epoch 10/10\n",
            "278/278 - 166s - loss: 0.0178 - accuracy: 0.9942 - val_loss: 0.0365 - val_accuracy: 0.9895 - 166s/epoch - 596ms/step\n"
          ]
        },
        {
          "output_type": "execute_result",
          "data": {
            "text/plain": [
              "<keras.callbacks.History at 0x7f44356ede90>"
            ]
          },
          "metadata": {},
          "execution_count": 9
        }
      ]
    },
    {
      "cell_type": "code",
      "source": [
        "model.summary()"
      ],
      "metadata": {
        "colab": {
          "base_uri": "https://localhost:8080/"
        },
        "id": "v8n_dyFWMts5",
        "outputId": "342bc2cb-eae0-4ff7-de22-0446a68caee1"
      },
      "execution_count": 10,
      "outputs": [
        {
          "output_type": "stream",
          "name": "stdout",
          "text": [
            "Model: \"sequential\"\n",
            "_________________________________________________________________\n",
            " Layer (type)                Output Shape              Param #   \n",
            "=================================================================\n",
            " conv2d (Conv2D)             (None, 28, 28, 32)        832       \n",
            "                                                                 \n",
            " conv2d_1 (Conv2D)           (None, 28, 28, 32)        25632     \n",
            "                                                                 \n",
            " max_pooling2d (MaxPooling2D  (None, 14, 14, 32)       0         \n",
            " )                                                               \n",
            "                                                                 \n",
            " dropout (Dropout)           (None, 14, 14, 32)        0         \n",
            "                                                                 \n",
            " conv2d_2 (Conv2D)           (None, 14, 14, 64)        18496     \n",
            "                                                                 \n",
            " conv2d_3 (Conv2D)           (None, 14, 14, 64)        36928     \n",
            "                                                                 \n",
            " max_pooling2d_1 (MaxPooling  (None, 7, 7, 64)         0         \n",
            " 2D)                                                             \n",
            "                                                                 \n",
            " dropout_1 (Dropout)         (None, 7, 7, 64)          0         \n",
            "                                                                 \n",
            " flatten (Flatten)           (None, 3136)              0         \n",
            "                                                                 \n",
            " dense (Dense)               (None, 256)               803072    \n",
            "                                                                 \n",
            " dropout_2 (Dropout)         (None, 256)               0         \n",
            "                                                                 \n",
            " dense_1 (Dense)             (None, 10)                2570      \n",
            "                                                                 \n",
            "=================================================================\n",
            "Total params: 887,530\n",
            "Trainable params: 887,530\n",
            "Non-trainable params: 0\n",
            "_________________________________________________________________\n"
          ]
        }
      ]
    },
    {
      "cell_type": "code",
      "source": [
        "prediction= model.predict(test)\n",
        "\n",
        "# select the indix with the maximum probability\n",
        "prediction= np.argmax(prediction,axis = 1)\n",
        "\n",
        "prediction= pd.Series(prediction,name=\"Label\")"
      ],
      "metadata": {
        "id": "JeoC53PAMy0b"
      },
      "execution_count": 11,
      "outputs": []
    },
    {
      "cell_type": "code",
      "source": [
        "print(prediction[0])\n",
        "plt.imshow(test[0][:,:,0])"
      ],
      "metadata": {
        "colab": {
          "base_uri": "https://localhost:8080/",
          "height": 300
        },
        "id": "Fyr3buRoM2gb",
        "outputId": "eeb5b2b3-c0ca-453d-b2e9-a7cca3ad0fac"
      },
      "execution_count": 12,
      "outputs": [
        {
          "output_type": "stream",
          "name": "stdout",
          "text": [
            "2\n"
          ]
        },
        {
          "output_type": "execute_result",
          "data": {
            "text/plain": [
              "<matplotlib.image.AxesImage at 0x7f4431432090>"
            ]
          },
          "metadata": {},
          "execution_count": 12
        },
        {
          "output_type": "display_data",
          "data": {
            "text/plain": [
              "<Figure size 432x288 with 1 Axes>"
            ],
            "image/png": "[encoded data removed]"
          },
          "metadata": {
            "needs_background": "light"
          }
        }
      ]
    },
    {
      "cell_type": "code",
      "source": [
        ""
      ],
      "metadata": {
        "id": "uvf0T1i_M4Fr"
      },
      "execution_count": 12,
      "outputs": []
    }
  ]
}